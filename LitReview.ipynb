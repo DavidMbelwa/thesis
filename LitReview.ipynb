{
 "cells": [
  {
   "cell_type": "markdown",
   "id": "b108de95-2177-4e8e-a1f1-7076f105fed1",
   "metadata": {
    "citation-manager": {
     "citations": {
      "0fwoc": [
       {
        "id": "13811894/JE9JI6IQ",
        "source": "zotero"
       }
      ],
      "1ixfl": [
       {
        "id": "13811894/6JCYZ6H9",
        "source": "zotero"
       }
      ],
      "1rye9": [
       {
        "id": "13811894/X72BEQ9J",
        "source": "zotero"
       }
      ],
      "2isfn": [
       {
        "id": "13811894/99LNLXPX",
        "source": "zotero"
       }
      ],
      "39ays": [
       {
        "id": "13811894/RUDNEP2X",
        "source": "zotero"
       }
      ],
      "3kbl2": [
       {
        "id": "13811894/JE9JI6IQ",
        "source": "zotero"
       }
      ],
      "9yjt4": [
       {
        "id": "13811894/YMS5KSMY",
        "source": "zotero"
       }
      ],
      "df6j7": [
       {
        "id": "13811894/GNSKDNPU",
        "source": "zotero"
       }
      ],
      "g4uqn": [
       {
        "id": "13811894/99LNLXPX",
        "source": "zotero"
       }
      ],
      "h77wt": [
       {
        "id": "13811894/4U2X9QKR",
        "source": "zotero"
       }
      ],
      "hnzh6": [
       {
        "id": "13811894/GNSKDNPU",
        "source": "zotero"
       }
      ],
      "mmysm": [
       {
        "id": "13811894/JE9JI6IQ",
        "source": "zotero"
       }
      ],
      "q7fe5": [
       {
        "id": "13811894/JE9JI6IQ",
        "source": "zotero"
       }
      ],
      "qamlf": [
       {
        "id": "13811894/HFF2SJP5",
        "source": "zotero"
       }
      ],
      "r0x1s": [
       {
        "id": "13811894/XDI8F2S8",
        "source": "zotero"
       }
      ],
      "rcsez": [
       {
        "id": "13811894/X72BEQ9J",
        "source": "zotero"
       }
      ],
      "teonv": [
       {
        "id": "13811894/99LNLXPX",
        "source": "zotero"
       }
      ],
      "wojek": [
       {
        "id": "13811894/4U2X9QKR",
        "source": "zotero"
       }
      ],
      "z6p2j": [
       {
        "id": "13811894/97N2BLLJ",
        "source": "zotero"
       }
      ]
     }
    },
    "tags": []
   },
   "source": [
    "### Introduction\n",
    "\n",
    "The world is facing more nutrition-related problems than it was forecasted before, despite massive success in grain yield improvements and supply chain expansion that was brought forward by scientific improvements in both agriculture and agribusiness in the 20th century <cite id=\"0fwoc\"><a href=\"#zotero%7C13811894%2FJE9JI6IQ\">(Lang, 2010)</a></cite>. On top of that, there is an increasing pressure on ecological resources of production, and the ecology at large, that threatens the sustainability of the current agricultural supply systems that have been seen to be the hallmark of both the 20th and 21st centuries <cite id=\"df6j7\"><a href=\"#zotero%7C13811894%2FGNSKDNPU\">(Gustafson et al., 2016)</a></cite> <cite id=\"wojek\"><a href=\"#zotero%7C13811894%2F4U2X9QKR\">(Harrison et al., 2022)</a></cite> <cite id=\"z6p2j\"><a href=\"#zotero%7C13811894%2F97N2BLLJ\">(<i>Sustainable Healthy Diets</i>, n.d.)</a></cite>. \n",
    "\n",
    "Over the past two decades, the global community has recognized the failure of the current food systems to meet globally the nutritional goals that were put in place before the turn of the millenia <cite id=\"1rye9\"><a href=\"#zotero%7C13811894%2FX72BEQ9J\">(Johnston et al., 2014)</a></cite>, and the negative impacts the current agricultural production systems have on their own sustainability <cite id=\"3kbl2\"><a href=\"#zotero%7C13811894%2FJE9JI6IQ\">(Lang, 2010)</a></cite>. On the nutritional side, one has the \"triple burden\" of malnutrition: Persitence of hunger globally, growing rates of obesity (leading to non-communicable diseases such as cardiovascular diseases and diabetes), and the \"hidden hunger\"; prevalance of people with an inadequate intake of essential minerals and vitamins for proper functioning of the body <cite id=\"rcsez\"><a href=\"#zotero%7C13811894%2FX72BEQ9J\">(Johnston et al., 2014)</a></cite> <cite id=\"2isfn\"><a href=\"#zotero%7C13811894%2F99LNLXPX\">(del Valle M et al., 2022)</a></cite>. There were almost 720 to 811 million people who faced hunger in 2020, 118 million more than in 2019 <cite id=\"g4uqn\"><a href=\"#zotero%7C13811894%2F99LNLXPX\">(del Valle M et al., 2022)</a></cite>. Obesity is becoming an issue even in developing countries <cite id=\"q7fe5\"><a href=\"#zotero%7C13811894%2FJE9JI6IQ\">(Lang, 2010)</a></cite>, and the amount of people with hidden hunger was estimated to be between 1 to 2 billion in 2021 <cite id=\"teonv\"><a href=\"#zotero%7C13811894%2F99LNLXPX\">(del Valle M et al., 2022)</a></cite>.\n",
    "\n",
    "On the ecological side, agriculture is being blamed for depletion of fresh-water resources, soil degradation, biodiversity disruption and several others. Molden D. <cite id=\"1ixfl\"><a href=\"#zotero%7C13811894%2F6JCYZ6H9\">(Molden, 2013)</a></cite> shows that agriculture is responsible for 70% of fresh water withdrawals. Tilman et al <cite id=\"qamlf\"><a href=\"#zotero%7C13811894%2FHFF2SJP5\">(Tilman et al., 2017)</a></cite> shows that the conversion of natural ecosystems to croplands and pasture lands is one of the greatest drivers of biodiversity loss, and Diaz and Rosenberg (..) shows that the over-application of and misuse of fertilizers results in nitrogen and phosphorous runoffs, creating poisonous lakes and rivers for both land and marine animals. Apart from these, there are the dangers caused by the overall climate change that are forcing the global community to rethink on how agriculture can survive in these increasing climatical, economical and demographical pressures.\n",
    "\n",
    "\n",
    "As one can notably see, most of the problems aforementioned above have a direct or an indirect association with the size of economy a country has. This has been long noted in works such as the one by Malasis <cite id=\"9yjt4\"><a href=\"#zotero%7C13811894%2FYMS5KSMY\">(Malassis, 1983)</a></cite> and Lang <cite id=\"mmysm\"><a href=\"#zotero%7C13811894%2FJE9JI6IQ\">(Lang, 2010)</a></cite>, who, to put it simply, recognized that the extent of these problems, and their relative importance to these countries, is highly dependent on the size of economy a country has achieved. Several studies have concluded that a one-size-fits-all approach doesn't work in every country when it comes to nutritional or welfare outcomes of food policies and agricultural rural development policies <cite id=\"h77wt\"><a href=\"#zotero%7C13811894%2F4U2X9QKR\">(Harrison et al., 2022)</a></cite>; <cite id=\"r0x1s\"><a href=\"#zotero%7C13811894%2FXDI8F2S8\">(Behrens et al., 2017)</a></cite>. This study is a continous attempt, from the one started by Gustafson and others <cite id=\"hnzh6\"><a href=\"#zotero%7C13811894%2FGNSKDNPU\">(Gustafson et al., 2016)</a></cite>, to evaluate the strenghts and weakness of countries of different sizes of economy towards achieving sustainable nutritional security using the seven metrics of nutritional security. The objectives of the study are:  \n",
    "\n",
    "1. To group countries' food systems according to their sizes of economy.\n",
    "\n",
    "2. To check how different sizes of economies differ on the seven metrics of sustainable nutrition metrics.  \n",
    "\n",
    "3. To check which metrics among the seven metrics of nutirtional security are significatly affected by size of economy.  \n",
    "\n",
    "4. To measure protein and energy intake of different country groups in the study.\n",
    "\n",
    "\n",
    "\n",
    "The study hopes to contribute to the whole body of sustainable food systems literature by providing an updated outlook of the subject matter from the recent data available, and thus hopefully provide a clearer picture to policy-makers on what they should look out for from the data 12 years more recent than the data used in the last similar study <cite id=\"39ays\"><a href=\"#zotero%7C13811894%2FRUDNEP2X\">(Chaudhary et al., 2018)</a></cite> in 2018 (The data used in this study was of 2011)."
   ]
  },
  {
   "cell_type": "markdown",
   "id": "7150ff32-5c12-4d0a-8d67-b51828b38331",
   "metadata": {
    "citation-manager": {
     "citations": {
      "002du": [
       {
        "id": "13811894/JE9JI6IQ",
        "source": "zotero"
       }
      ],
      "06rxi": [
       {
        "id": "13811894/AG3GI4YC",
        "source": "zotero"
       }
      ],
      "0dmmh": [
       {
        "id": "13811894/4U2X9QKR",
        "source": "zotero"
       }
      ],
      "1c2ff": [
       {
        "id": "13811894/72UUDM8R",
        "source": "zotero"
       }
      ],
      "1fnnc": [
       {
        "id": "13811894/INFXXM6L",
        "source": "zotero"
       }
      ],
      "1z3c4": [
       {
        "id": "13811894/X72BEQ9J",
        "source": "zotero"
       }
      ],
      "2fno7": [
       {
        "id": "13811894/I7SEHYLU",
        "source": "zotero"
       }
      ],
      "30a0l": [
       {
        "id": "13811894/4U2X9QKR",
        "source": "zotero"
       }
      ],
      "3g3yk": [
       {
        "id": "13811894/FRUI853H",
        "source": "zotero"
       }
      ],
      "3qpht": [
       {
        "id": "13811894/GNSKDNPU",
        "source": "zotero"
       }
      ],
      "42kxq": [
       {
        "id": "13811894/4U2X9QKR",
        "source": "zotero"
       }
      ],
      "445lm": [
       {
        "id": "13811894/4U2X9QKR",
        "source": "zotero"
       }
      ],
      "4djma": [
       {
        "id": "13811894/GNSKDNPU",
        "source": "zotero"
       }
      ],
      "4vvwk": [
       {
        "id": "13811894/FIRKRFRE",
        "source": "zotero"
       }
      ],
      "622zk": [
       {
        "id": "13811894/ZYPC6GLS",
        "source": "zotero"
       }
      ],
      "65rhi": [
       {
        "id": "13811894/PHJRIETV",
        "source": "zotero"
       }
      ],
      "66xip": [
       {
        "id": "13811894/AKAGSTMH",
        "source": "zotero"
       }
      ],
      "78d6r": [
       {
        "id": "13811894/GNSKDNPU",
        "source": "zotero"
       }
      ],
      "7dtir": [
       {
        "id": "13811894/X72BEQ9J",
        "source": "zotero"
       }
      ],
      "7s5gp": [
       {
        "id": "13811894/4U2X9QKR",
        "source": "zotero"
       }
      ],
      "7sr25": [
       {
        "id": "13811894/72UUDM8R",
        "source": "zotero"
       }
      ],
      "7yoeb": [
       {
        "id": "13811894/INFXXM6L",
        "source": "zotero"
       }
      ],
      "82enr": [
       {
        "id": "13811894/AVEAMUUI",
        "source": "zotero"
       }
      ],
      "86b6r": [
       {
        "id": "13811894/AG3GI4YC",
        "source": "zotero"
       }
      ],
      "86f66": [
       {
        "id": "13811894/AVEAMUUI",
        "source": "zotero"
       }
      ],
      "8dl0l": [
       {
        "id": "13811894/AVEAMUUI",
        "source": "zotero"
       }
      ],
      "8j3tb": [
       {
        "id": "13811894/AVEAMUUI",
        "source": "zotero"
       }
      ],
      "9o4g8": [
       {
        "id": "13811894/V5FGMGA2",
        "source": "zotero"
       }
      ],
      "9pa2r": [
       {
        "id": "13811894/W3I689U5",
        "source": "zotero"
       }
      ],
      "a4ksg": [
       {
        "id": "13811894/N33WV9XV",
        "source": "zotero"
       }
      ],
      "ashen": [
       {
        "id": "13811894/AVEAMUUI",
        "source": "zotero"
       }
      ],
      "atint": [
       {
        "id": "13811894/W3I689U5",
        "source": "zotero"
       }
      ],
      "b7rcn": [
       {
        "id": "13811894/DMD9AT9Q",
        "source": "zotero"
       }
      ],
      "bao0m": [
       {
        "id": "13811894/4U2X9QKR",
        "source": "zotero"
       }
      ],
      "bi588": [
       {
        "id": "13811894/JE9JI6IQ",
        "source": "zotero"
       }
      ],
      "bmhuj": [
       {
        "id": "13811894/FIRKRFRE",
        "source": "zotero"
       }
      ],
      "bz9bg": [
       {
        "id": "13811894/UPGD6SLC",
        "source": "zotero"
       }
      ],
      "ckunw": [
       {
        "id": "13811894/AG3GI4YC",
        "source": "zotero"
       }
      ],
      "d3dv4": [
       {
        "id": "13811894/AVEAMUUI",
        "source": "zotero"
       }
      ],
      "d749n": [
       {
        "id": "13811894/V5FGMGA2",
        "source": "zotero"
       }
      ],
      "dd4sr": [
       {
        "id": "13811894/GNSKDNPU",
        "source": "zotero"
       }
      ],
      "dgmnk": [
       {
        "id": "13811894/63RNQN8V",
        "source": "zotero"
       }
      ],
      "froqi": [
       {
        "id": "13811894/AVEAMUUI",
        "source": "zotero"
       }
      ],
      "gaebd": [
       {
        "id": "13811894/X72BEQ9J",
        "source": "zotero"
       }
      ],
      "gdyld": [
       {
        "id": "13811894/X72BEQ9J",
        "source": "zotero"
       }
      ],
      "gia5p": [
       {
        "id": "13811894/JE9JI6IQ",
        "source": "zotero"
       }
      ],
      "gl4a4": [
       {
        "id": "13811894/AKAGSTMH",
        "source": "zotero"
       }
      ],
      "h1243": [
       {
        "id": "13811894/4U2X9QKR",
        "source": "zotero"
       }
      ],
      "hdmkq": [
       {
        "id": "13811894/INFXXM6L",
        "source": "zotero"
       }
      ],
      "hr9s4": [
       {
        "id": "13811894/4U2X9QKR",
        "source": "zotero"
       }
      ],
      "hvrhd": [
       {
        "id": "13811894/X72BEQ9J",
        "source": "zotero"
       }
      ],
      "ifs4t": [
       {
        "id": "13811894/INFXXM6L",
        "source": "zotero"
       }
      ],
      "ip10t": [
       {
        "id": "13811894/AVEAMUUI",
        "source": "zotero"
       }
      ],
      "ipjaf": [
       {
        "id": "13811894/X72BEQ9J",
        "source": "zotero"
       }
      ],
      "ipvje": [
       {
        "id": "13811894/AKAGSTMH",
        "source": "zotero"
       }
      ],
      "iu7vf": [
       {
        "id": "13811894/99LNLXPX",
        "source": "zotero"
       }
      ],
      "ixo1o": [
       {
        "id": "13811894/PHJRIETV",
        "source": "zotero"
       }
      ],
      "j01i4": [
       {
        "id": "13811894/4U2X9QKR",
        "source": "zotero"
       }
      ],
      "j97vp": [
       {
        "id": "13811894/AG3GI4YC",
        "source": "zotero"
       }
      ],
      "jb0ip": [
       {
        "id": "13811894/X72BEQ9J",
        "source": "zotero"
       }
      ],
      "kch96": [
       {
        "id": "13811894/X72BEQ9J",
        "source": "zotero"
       }
      ],
      "kdn0a": [
       {
        "id": "13811894/AVEAMUUI",
        "source": "zotero"
       }
      ],
      "kyovf": [
       {
        "id": "13811894/AG3GI4YC",
        "source": "zotero"
       }
      ],
      "l348d": [
       {
        "id": "13811894/INFXXM6L",
        "source": "zotero"
       }
      ],
      "l5e8r": [
       {
        "id": "13811894/4U2X9QKR",
        "source": "zotero"
       }
      ],
      "lfg3p": [
       {
        "id": "13811894/4U2X9QKR",
        "source": "zotero"
       }
      ],
      "m7209": [
       {
        "id": "13811894/ZYPC6GLS",
        "source": "zotero"
       }
      ],
      "maky8": [
       {
        "id": "13811894/JE9JI6IQ",
        "source": "zotero"
       }
      ],
      "mcp4a": [
       {
        "id": "13811894/AVEAMUUI",
        "source": "zotero"
       }
      ],
      "mfk17": [
       {
        "id": "13811894/AVEAMUUI",
        "source": "zotero"
       }
      ],
      "msev4": [
       {
        "id": "13811894/YMS5KSMY",
        "source": "zotero"
       }
      ],
      "mumyc": [
       {
        "id": "13811894/97N2BLLJ",
        "source": "zotero"
       }
      ],
      "mzoli": [
       {
        "id": "13811894/2L6QCGPV",
        "source": "zotero"
       }
      ],
      "nhq7n": [
       {
        "id": "13811894/INFXXM6L",
        "source": "zotero"
       }
      ],
      "nrmfd": [
       {
        "id": "13811894/PHJRIETV",
        "source": "zotero"
       }
      ],
      "o68wc": [
       {
        "id": "13811894/AVEAMUUI",
        "source": "zotero"
       }
      ],
      "oepta": [
       {
        "id": "13811894/AKAGSTMH",
        "source": "zotero"
       }
      ],
      "op1tw": [
       {
        "id": "13811894/4U2X9QKR",
        "source": "zotero"
       }
      ],
      "ov6ir": [
       {
        "id": "13811894/PHJRIETV",
        "source": "zotero"
       }
      ],
      "pdiev": [
       {
        "id": "13811894/INFXXM6L",
        "source": "zotero"
       }
      ],
      "pdmzh": [
       {
        "id": "13811894/XDI8F2S8",
        "source": "zotero"
       }
      ],
      "ptja4": [
       {
        "id": "13811894/AVEAMUUI",
        "source": "zotero"
       }
      ],
      "q0m3l": [
       {
        "id": "13811894/GNSKDNPU",
        "source": "zotero"
       }
      ],
      "qeiih": [
       {
        "id": "13811894/ZYPC6GLS",
        "source": "zotero"
       }
      ],
      "qtxso": [
       {
        "id": "13811894/GNSKDNPU",
        "source": "zotero"
       }
      ],
      "roh8r": [
       {
        "id": "13811894/GNSKDNPU",
        "source": "zotero"
       }
      ],
      "stvyt": [
       {
        "id": "13811894/4U2X9QKR",
        "source": "zotero"
       }
      ],
      "suktr": [
       {
        "id": "13811894/JE9JI6IQ",
        "source": "zotero"
       }
      ],
      "t3tsc": [
       {
        "id": "13811894/QLFKA8G9",
        "source": "zotero"
       }
      ],
      "tzuul": [
       {
        "id": "13811894/4U2X9QKR",
        "source": "zotero"
       }
      ],
      "ubk9b": [
       {
        "id": "13811894/INFXXM6L",
        "source": "zotero"
       }
      ],
      "uf93g": [
       {
        "id": "13811894/PHJRIETV",
        "source": "zotero"
       }
      ],
      "ug0gf": [
       {
        "id": "13811894/63RNQN8V",
        "source": "zotero"
       }
      ],
      "upbgr": [
       {
        "id": "13811894/97N2BLLJ",
        "source": "zotero"
       }
      ],
      "uplat": [
       {
        "id": "13811894/INFXXM6L",
        "source": "zotero"
       }
      ],
      "uv5w5": [
       {
        "id": "13811894/PHJRIETV",
        "source": "zotero"
       }
      ],
      "vkp9z": [
       {
        "id": "13811894/AG3GI4YC",
        "source": "zotero"
       }
      ],
      "vplvq": [
       {
        "id": "13811894/X72BEQ9J",
        "source": "zotero"
       }
      ],
      "vr6qz": [
       {
        "id": "13811894/99LNLXPX",
        "source": "zotero"
       }
      ],
      "vzpit": [
       {
        "id": "13811894/4U2X9QKR",
        "source": "zotero"
       }
      ],
      "w2nje": [
       {
        "id": "13811894/GNSKDNPU",
        "source": "zotero"
       }
      ],
      "wbzam": [
       {
        "id": "13811894/4U2X9QKR",
        "source": "zotero"
       }
      ],
      "wrs26": [
       {
        "id": "13811894/N33WV9XV",
        "source": "zotero"
       }
      ],
      "xbooj": [
       {
        "id": "13811894/AVEAMUUI",
        "source": "zotero"
       }
      ],
      "yc5pa": [
       {
        "id": "13811894/W3I689U5",
        "source": "zotero"
       }
      ],
      "zc6ej": [
       {
        "id": "13811894/AVEAMUUI",
        "source": "zotero"
       }
      ],
      "zwnqd": [
       {
        "id": "13811894/ZYPC6GLS",
        "source": "zotero"
       }
      ],
      "zzfh5": [
       {
        "id": "13811894/ZYPC6GLS",
        "source": "zotero"
       }
      ]
     }
    },
    "tags": []
   },
   "source": [
    "### Literature Review\n",
    "\n",
    "#### 2.1. Definition of Terms  \n",
    "Prior to the emergency of sustainability as a central theme in all of the global development policy, most of global efforts were directed towards reducing hunger, undernutrition and food insecurity <cite id=\"iu7vf\"><a href=\"#zotero%7C13811894%2F99LNLXPX\">(del Valle M et al., 2022)</a></cite>. The goal was quite noble, because as a policymaker in the 1980's, your focus would've been on how to feed an increasing global population, without knowing the unforeseen consequences of the blueprint you have in hand<cite id=\"t3tsc\"><a href=\"#zotero%7C13811894%2FQLFKA8G9\">(<i>Population</i>, n.d.)</a></cite><cite id=\"002du\"><a href=\"#zotero%7C13811894%2FJE9JI6IQ\">(Lang, 2010)</a></cite>. From 1920's and 1930's, a policy framework encouraging agricultural industrialization, production intensification, and food globalization, had been adopted, due to both the high global burden of underfed people and the successes in applied sciences of soil and animal breeding<cite id=\"gia5p\"><a href=\"#zotero%7C13811894%2FJE9JI6IQ\">(Lang, 2010)</a></cite>. In truth, the approach worked, intensifying farms, creating timely supply chains, and overcoming seasonality and geo-biological barriers through global trade<cite id=\"suktr\"><a href=\"#zotero%7C13811894%2FJE9JI6IQ\">(Lang, 2010)</a></cite>. This created a type of an agricultural revolution never witnessed before<cite id=\"bi588\"><a href=\"#zotero%7C13811894%2FJE9JI6IQ\">(Lang, 2010)</a></cite>. It wasn't until the turn of the 21st century that the global community realized the consequences of this approach in exacerbating existing inequalities and putting a negative pressure on natural resources<cite id=\"hr9s4\"><a href=\"#zotero%7C13811894%2F4U2X9QKR\">(Harrison et al., 2022)</a></cite>. The success of the system also crumbles in its own doing, as despite there being more food produced and marketed than ever before, the global community suffers from nutrition related diseases than it was forecasted before<cite id=\"vr6qz\"><a href=\"#zotero%7C13811894%2F99LNLXPX\">(del Valle M et al., 2022)</a></cite><cite id=\"maky8\"><a href=\"#zotero%7C13811894%2FJE9JI6IQ\">(Lang, 2010)</a></cite>. Since then, the focus has been on developing food systems that deal with both malnutrition, over-nutrition and undernutrition while maintaining a sustainable development at the societal and ecological level<cite id=\"bao0m\"><a href=\"#zotero%7C13811894%2F4U2X9QKR\">(Harrison et al., 2022)</a></cite>. But there was a catch..  \n",
    "\n",
    "\n",
    "The first problem was to accurately define the dimensions of sustainability targeted<cite id=\"lfg3p\"><a href=\"#zotero%7C13811894%2F4U2X9QKR\">(Harrison et al., 2022)</a></cite><cite id=\"ixo1o\"><a href=\"#zotero%7C13811894%2FPHJRIETV\">(von Braun et al., 2021)</a></cite>. For some countries, sustainability meant dealing with the environmental issues, for others nutritional issues, and yet for others socio-economic issues<cite id=\"op1tw\"><a href=\"#zotero%7C13811894%2F4U2X9QKR\">(Harrison et al., 2022)</a></cite>. Attempts to define sustainability had started since 1986<cite id=\"7s5gp\"><a href=\"#zotero%7C13811894%2F4U2X9QKR\">(Harrison et al., 2022)</a></cite><cite id=\"b7rcn\"><a href=\"#zotero%7C13811894%2FDMD9AT9Q\">(Gussow and Clancy, 1986)</a></cite>, but it wasn't until 2010 that a widely accepted definition of sustainability, albeit in-terms of diets, was coined<cite id=\"wbzam\"><a href=\"#zotero%7C13811894%2F4U2X9QKR\">(Harrison et al., 2022)</a></cite>. The definition defined sustainable diets as those which cause low environmental impacts and which contribute to food and nutrition security and a healthy life for present and future generations<cite id=\"30a0l\"><a href=\"#zotero%7C13811894%2F4U2X9QKR\">(Harrison et al., 2022)</a></cite>. Von Braun and others<cite id=\"ov6ir\"><a href=\"#zotero%7C13811894%2FPHJRIETV\">(von Braun et al., 2021)</a></cite> explain that a practical definition of a sustainable food system has to 1) be able to support global and national effors to bring about a positive change and acceleration towards Sustainable Development Goals(SDG's), 2) to be precise enough in defining domains for policy and programmatic action, and broad enough not to exclude any social, economic and environmental aspects of sustainability. It is safe to point out that there is a huge overlap in sustainability literature when it comes to *Sustainable Food Systems* and *Sustainable and Healthy Diets*<cite id=\"ashen\"><a href=\"#zotero%7C13811894%2FAVEAMUUI\">(Boylan et al., 2020)</a></cite>, and this creates the second problem: Approach..  \n",
    "\n",
    "Works that looked at sustainable food systems tended to adopt a positive approach, the one that goes into detail to explain how food systems work and how they can/should be changed<cite id=\"ug0gf\"><a href=\"#zotero%7C13811894%2F63RNQN8V\">(<i>HLPE Report # 12 - Nutrition and Food Systems</i>, n.d.)</a></cite><cite id=\"msev4\"><a href=\"#zotero%7C13811894%2FYMS5KSMY\">(Malassis, 1983)</a></cite>. They approach the issue of sustainability by mapping all food system actors and how they work and use that map for policy-setting<cite id=\"m7209\"><a href=\"#zotero%7C13811894%2FZYPC6GLS\">(von Braun et al., 2021a)</a></cite>. Works that looked at sustainable and healthy diets tended to adopt a normative approach, which starts by first setting value-judged goals about what it is that should be achieved and then work backwards to design the system accordingly<cite id=\"86b6r\"><a href=\"#zotero%7C13811894%2FAG3GI4YC\">(Auestad and Fulgoni, 2015)</a></cite><cite id=\"vplvq\"><a href=\"#zotero%7C13811894%2FX72BEQ9J\">(Johnston et al., 2014)</a></cite><cite id=\"2fno7\"><a href=\"#zotero%7C13811894%2FI7SEHYLU\">(<i>Sustainable Diets and Biodiversity - Directions and Solutions for Policy, Research and Actions</i>, n.d.)</a></cite>. Both approaches have got advantages in them, but it is their weaknesses that makes it a problem using any one of them independently<cite id=\"uf93g\"><a href=\"#zotero%7C13811894%2FPHJRIETV\">(von Braun et al., 2021a)</a></cite>. The first approach, if implemented separately, tends to collapse under the sheer scale and complexity of real-life food systems<cite id=\"uv5w5\"><a href=\"#zotero%7C13811894%2FPHJRIETV\">(von Braun et al., 2021a)</a></cite>. The second approach, also implemented independently, leads to the danger of wishful thinking, that is, setting goals that aren't achievable<cite id=\"65rhi\"><a href=\"#zotero%7C13811894%2FPHJRIETV\">(von Braun et al., 2021a)</a></cite>. Boylan et al<cite id=\"82enr\"><a href=\"#zotero%7C13811894%2FAVEAMUUI\">(Boylan et al., 2020)</a></cite> points out that evaluating the sustainability of a food system by using a sustainable diet is not the best way to go with the problem, as some components of a sustainable diet might not really lead to a sustainable food system<cite id=\"mfk17\"><a href=\"#zotero%7C13811894%2FAVEAMUUI\">(Boylan et al., 2020)</a></cite>. They point out for example, that all sustainable diets have got a threshold, beyond which they are no longer sustainable. They gave an example, cited from <cite id=\"bz9bg\"><a href=\"#zotero%7C13811894%2FUPGD6SLC\">(Finley et al., 2017)</a></cite>, that the trend to switch to plant-based diets, which are currently popular and are considered sustainable in many metrics, will continue to be sustainable until a certain threshold, for example if the whole population of USA decides to adopt these plant-based diets, is reached. After that, the costs of importing vegetables and fruits to facilitate the supply in that food chain may no longer be environmentally sustainable, considering the GHG emissions associated with importation<cite id=\"8dl0l\"><a href=\"#zotero%7C13811894%2FAVEAMUUI\">(Boylan et al., 2020)</a></cite>.  \n",
    "\n",
    "Findings from <cite id=\"pdmzh\"><a href=\"#zotero%7C13811894%2FXDI8F2S8\">(Behrens et al., 2017)</a></cite> concerning the reduction of environmental impacts when adopting a nationally recommended diet vis-a-vis a national average diet, also shows that a diet can be sustainable in one place but not in others. According to their research, adopting a nationally recommended diet led to a significant decrease of  environmental impacts in high-income countries, a slight decrease in middle-income countries but an increase in low-income countries. Boylan et al<cite id=\"ip10t\"><a href=\"#zotero%7C13811894%2FAVEAMUUI\">(Boylan et al., 2020)</a></cite> takes it further by proposing that not only diets, but also food systems, can be sustainable in some places and not in others<cite id=\"86f66\"><a href=\"#zotero%7C13811894%2FAVEAMUUI\">(Boylan et al., 2020)</a></cite>. Authors of <cite id=\"zzfh5\"><a href=\"#zotero%7C13811894%2FZYPC6GLS\">(von Braun et al., 2021b)</a></cite> propose a holistic approach that starts with the second approach (since we are starting from the *Sustainable Development Goals*), then measure those goals using the positive tools that are in hand<cite id=\"zwnqd\"><a href=\"#zotero%7C13811894%2FZYPC6GLS\">(von Braun et al., 2021b)</a></cite>. The resulting goals will then be appropriate enough to be used for scientific and political action<cite id=\"nrmfd\"><a href=\"#zotero%7C13811894%2FPHJRIETV\">(von Braun et al., 2021a)</a></cite>.  \n",
    "\n",
    "\n",
    "Coming back to the accurate definition of Sustainable Food Systems, several attempts in the form of international conferences on nutrition and food security were made, from 2014 to 2019<cite id=\"445lm\"><a href=\"#zotero%7C13811894%2F4U2X9QKR\">(Harrison et al., 2022)</a></cite>, to tackle the issue of which conceptual frameworks can lead to sustainable food systems or at least sustainable diets<cite id=\"j01i4\"><a href=\"#zotero%7C13811894%2F4U2X9QKR\">(Harrison et al., 2022)</a></cite>. Many publications on the topic came out, some more robust than others<cite id=\"42kxq\"><a href=\"#zotero%7C13811894%2F4U2X9QKR\">(Harrison et al., 2022)</a></cite>. Authors of <cite id=\"stvyt\"><a href=\"#zotero%7C13811894%2F4U2X9QKR\">(Harrison et al., 2022)</a></cite> noted that, while some of the publications attacked only single aspects of the issue<cite id=\"d749n\"><a href=\"#zotero%7C13811894%2FV5FGMGA2\">(<i>A-Balance-of-Healthy-and-Sustainable-Food-Choices.Pdf</i>, n.d.)</a></cite>, some were well rounded, including the environmental, economic, and societal goals<cite id=\"0dmmh\"><a href=\"#zotero%7C13811894%2F4U2X9QKR\">(Harrison et al., 2022)</a></cite>. There was still no agreement between countries though, concerning what are the main constituents of a sustainable food system/diet<cite id=\"vzpit\"><a href=\"#zotero%7C13811894%2F4U2X9QKR\">(Harrison et al., 2022)</a></cite>. The Food and Agriculture Organization of United Nations (FAO) released a publication in 2019 that provided an authoritative guidance on what a sustainable food system should have<cite id=\"upbgr\"><a href=\"#zotero%7C13811894%2F97N2BLLJ\">(<i>Sustainable Healthy Diets</i>, n.d.)</a></cite>. The document contained 16 dimensions, which FAO believed a food system should have if it is to, quote, *\"Promote all dimensions of individuals' health and wellbeing; have low environmental pressure and impact; are accessible, affordable, safe and equitable; and are culturally acceptable.\"*<cite id=\"mumyc\"><a href=\"#zotero%7C13811894%2F97N2BLLJ\">(<i>Sustainable Healthy Diets</i>, n.d.)</a></cite>. The guiding principles were intended to provide a flexible framework on which policy-makers in different economies and food systems can target their policy actions towards<cite id=\"l5e8r\"><a href=\"#zotero%7C13811894%2F4U2X9QKR\">(Harrison et al., 2022)</a></cite>. Clear methodologies and indicators to measure how these food systems perform in these dimensions had not been mentioned though<cite id=\"tzuul\"><a href=\"#zotero%7C13811894%2F4U2X9QKR\">(Harrison et al., 2022)</a></cite>, and most studies that tried to tackle that problem had to go back and hand-pick several indicators and methodologies from social and environmental sciences<cite id=\"j97vp\"><a href=\"#zotero%7C13811894%2FAG3GI4YC\">(Auestad and Fulgoni, 2015)</a></cite>. The following part of this literature review will review the different methodologies used to measure sustainability in food systems.  \n",
    "\n",
    "\n",
    "#### 2.2 Methodology used\n",
    "\n",
    "##### 2.2.1 Linear Programming\n",
    "One of the oldest trick in the books, it was first used in nutrition studies in the UK's Livewell Project back in 2014, to understand how UK diets might achieve nutritional adequacy, affordability, and reduced environmental impact<cite id=\"1z3c4\"><a href=\"#zotero%7C13811894%2FX72BEQ9J\">(Johnston et al., 2014)</a></cite>. This was at the time when there was no definitive metric in hand and most used metrics were nutritional indexes that didn't cover much the whole scope of sustainability, whether environmentally, socially or economically<cite id=\"jb0ip\"><a href=\"#zotero%7C13811894%2FX72BEQ9J\">(Johnston et al., 2014)</a></cite>. The authors of <cite id=\"ipjaf\"><a href=\"#zotero%7C13811894%2FX72BEQ9J\">(Johnston et al., 2014)</a></cite> noted that the methodology has several dimensions which causes uncertainity to how it should be used. They point out for example, should the measurement be framed in-terms of agricultural growth, such that you reduce hunger by *X* by *Y* amounts of inputs used? Or using constraints, such that good nutrition is achieved at certain levels of emissions?  \n",
    "\n",
    "There was also a problem of which indicators to use<cite id=\"7dtir\"><a href=\"#zotero%7C13811894%2FX72BEQ9J\">(Johnston et al., 2014)</a></cite>. The first implementation of this methodology only evaluated dietary recommendations based on the greenhouse gas emissions (GHGE), but there weren't indicators to be used to measure other dimensions such as cultural relevance and ecosystem health<cite id=\"gaebd\"><a href=\"#zotero%7C13811894%2FX72BEQ9J\">(Johnston et al., 2014)</a></cite>. Authors who explored and used this frontier<cite id=\"kch96\"><a href=\"#zotero%7C13811894%2FX72BEQ9J\">(Johnston et al., 2014)</a></cite><cite id=\"9o4g8\"><a href=\"#zotero%7C13811894%2FV5FGMGA2\">(<i>A-Balance-of-Healthy-and-Sustainable-Food-Choices.Pdf</i>, n.d.)</a></cite> recognize the need to develop better metrics and indicators to be used in this model.  \n",
    "\n",
    "\n",
    "##### 2.2.2. Life-Cycle Assessments (LCA)\n",
    "Used primarily in most diet based studies<cite id=\"ckunw\"><a href=\"#zotero%7C13811894%2FAG3GI4YC\">(Auestad and Fulgoni, 2015)</a></cite>, this methodology looks at the environmental impacts of a product in its life-cycle, from inception to consumption<cite id=\"7sr25\"><a href=\"#zotero%7C13811894%2F72UUDM8R\">(Muralikrishna and Manickam, 2017)</a></cite>. A very good tool for natural-resource-based food system analyses, the methodology falls victim to the issue of one-dimensionality, that is, exploring everything only in an environmental perspective<cite id=\"06rxi\"><a href=\"#zotero%7C13811894%2FAG3GI4YC\">(Auestad and Fulgoni, 2015)</a></cite>. There is also a problem of non-objectivity, as results from different LCAs tend to be contradictory<cite id=\"1fnnc\"><a href=\"#zotero%7C13811894%2FINFXXM6L\">(Ekvall, 2019)</a></cite>. This is due to the fact that, at the beginning, any LCA starts by defining subjective goals which in-turn define the methodology used inside it<cite id=\"uplat\"><a href=\"#zotero%7C13811894%2FINFXXM6L\">(Ekvall, 2019)</a></cite>. There is also an issue of which type of an LCA is done, and why. The two major types of LCAs are *Attributional* and *Consequential*<cite id=\"hdmkq\"><a href=\"#zotero%7C13811894%2FINFXXM6L\">(Ekvall, 2019)</a></cite>. Attributional LCA aims at attributing environmental impacts of a product's production or consumption to one of its processes<cite id=\"ubk9b\"><a href=\"#zotero%7C13811894%2FINFXXM6L\">(Ekvall, 2019)</a></cite>. This is like an exploratory analysis of where emissions or environmental impacts of a product comes from<cite id=\"7yoeb\"><a href=\"#zotero%7C13811894%2FINFXXM6L\">(Ekvall, 2019)</a></cite>. Consequential LCA aims at studying how the relevant environmental flows of the current supply chain will change as a result of decision changes<cite id=\"nhq7n\"><a href=\"#zotero%7C13811894%2FINFXXM6L\">(Ekvall, 2019)</a></cite>. It is more geared toward informing policy-makers on how their decisions will affect the environment<cite id=\"ifs4t\"><a href=\"#zotero%7C13811894%2FINFXXM6L\">(Ekvall, 2019)</a></cite>.  \n",
    "\n",
    "LCA has been used in environmental sciences for almost 30 years<cite id=\"l348d\"><a href=\"#zotero%7C13811894%2FINFXXM6L\">(Ekvall, 2019)</a></cite>, and it is indeed a good tool for environmental accounting<cite id=\"1c2ff\"><a href=\"#zotero%7C13811894%2F72UUDM8R\">(Muralikrishna and Manickam, 2017)</a></cite>, but it is too one-sided to be a robust tool for carrying out a well rounded sustainability assessment for food systems<cite id=\"vkp9z\"><a href=\"#zotero%7C13811894%2FAG3GI4YC\">(Auestad and Fulgoni, 2015)</a></cite>. Coupled by the fact that it is a highly subjective methodology<cite id=\"pdiev\"><a href=\"#zotero%7C13811894%2FINFXXM6L\">(Ekvall, 2019)</a></cite><cite id=\"xbooj\"><a href=\"#zotero%7C13811894%2FAVEAMUUI\">(Boylan et al., 2020)</a></cite><cite id=\"kyovf\"><a href=\"#zotero%7C13811894%2FAG3GI4YC\">(Auestad and Fulgoni, 2015)</a></cite>, it has mostly been used to evaluate the environmental side of sustainability of food systems so far<cite id=\"4djma\"><a href=\"#zotero%7C13811894%2FGNSKDNPU\">(Gustafson et al., 2016)</a></cite><cite id=\"dgmnk\"><a href=\"#zotero%7C13811894%2F63RNQN8V\">(<i>HLPE Report # 12 - Nutrition and Food Systems</i>, n.d.)</a></cite>.\n",
    "\n",
    "\n",
    "##### 2.2.3. Material Flow Analysis (MFA)\n",
    "A giant in the resource accounting literature, this method studies the transportation, transformation and storage of materials within a defined system<cite id=\"wrs26\"><a href=\"#zotero%7C13811894%2FN33WV9XV\">(Allesch and Brunner, 2015)</a></cite>. A system in this context can be a chemical reaction, a production process, a country, a firm or any other productive force <cite id=\"4vvwk\"><a href=\"#zotero%7C13811894%2FFIRKRFRE\">(Ayres et al., 1999)</a></cite>. The method is based on the mass-balance principle, which states that the mass of all the inputs is equal to the mass of all outputs plus the changes in resource stocks <cite id=\"bmhuj\"><a href=\"#zotero%7C13811894%2FFIRKRFRE\">(Ayres et al., 1999)</a></cite><cite id=\"a4ksg\"><a href=\"#zotero%7C13811894%2FN33WV9XV\">(Allesch and Brunner, 2015)</a></cite>. It later gives rise to Substance Flow Analysis (SFA), which is like MFA, but with a special focus on substances rather than the economic or ecological entities themselves<cite id=\"mzoli\"><a href=\"#zotero%7C13811894%2F2L6QCGPV\">(Brunner, 2012)</a></cite>. Both methods have been popular as analysis tools in industrial ecology studies where LCA has been used as a design tool for policy<cite id=\"atint\"><a href=\"#zotero%7C13811894%2FW3I689U5\">(Kytzia et al., 2004)</a></cite>. They are very robust methods since they measure things in-terms of mass, which in turn is a very robust measure itself, that is immutable across time and space, and that can be measured using simple means while not being that much complicated to comprehend<cite id=\"3g3yk\"><a href=\"#zotero%7C13811894%2FFRUI853H\">(Fischer-Kowalski et al., 2011)</a></cite>. This particular strenght of them is what has been used to criticise in some literature, stating that they don't really capture the immaterial forces that shape and influence production systems<cite id=\"9pa2r\"><a href=\"#zotero%7C13811894%2FW3I689U5\">(Kytzia et al., 2004)</a></cite>. Kytzia et al<cite id=\"yc5pa\"><a href=\"#zotero%7C13811894%2FW3I689U5\">(Kytzia et al., 2004)</a></cite>, for example, mentioned that neither MFA, SFA nor LCA capture the cultural, social and economic factors that drive industrial production, factors that are very relevant in the real-world. Together with this issue, these three techniques don't address the major issue in food system sustainability literature, that is, they don't have a set of metrics that can be applied explicitly to food system sustainability analysis. That being said, they have been used extensively to measure metrics that are already in-place from other conceptural frameworks<cite id=\"qtxso\"><a href=\"#zotero%7C13811894%2FGNSKDNPU\">(Gustafson et al., 2016)</a></cite>.  \n",
    "\n",
    "##### 2.2.4. Input-Output Analyses\n",
    "Developed by Wassily Leontief in 1936<cite id=\"kdn0a\"><a href=\"#zotero%7C13811894%2FAVEAMUUI\">(Boylan et al., 2020)</a></cite>, this is a method that is useful in tracing economic activity across different industries in checking the consumption and value added on a particular product<cite id=\"8j3tb\"><a href=\"#zotero%7C13811894%2FAVEAMUUI\">(Boylan et al., 2020)</a></cite>. The method follows a life cycle approach similar to an LCA, and it is one of principle methods used in LCAs<cite id=\"d3dv4\"><a href=\"#zotero%7C13811894%2FAVEAMUUI\">(Boylan et al., 2020)</a></cite>. It is not confined into looking only at environmental impacts though, but rather capable of analysing both social-economic and environmental impacts of products across industry.  \n",
    "\n",
    "It is a very good and robust method, only that it doesn't have a conceptual framework specifically designed for food system sustainability assessment. A researcher has to first go and tailor the dimensions of sustainability he/she will work on, and then use the method, as it was used in Boylan et al<cite id=\"mcp4a\"><a href=\"#zotero%7C13811894%2FAVEAMUUI\">(Boylan et al., 2020)</a></cite>.\n",
    "\n",
    "##### 2.2.5. Global Access to Nutrition Index\n",
    "This is a corporate-ranking methodology created back in 2013 by the Global Alliance for Improved Nutrition (GAIN) for the purpose of ranking how well companies do in-terms of marketing nutritious, ethical and legally compliant foods<cite id=\"hvrhd\"><a href=\"#zotero%7C13811894%2FX72BEQ9J\">(Johnston et al., 2014)</a></cite><cite id=\"ipvje\"><a href=\"#zotero%7C13811894%2FAKAGSTMH\">(<i>210630-ATN-_-Global-Methodology-Report_V4.Pdf</i>, n.d.)</a></cite>. It is now maintained by the Access To Nutrition Initiative (ATNI), which collects data from global Food and Beverage (F & B) companies in relation to their policies and commitments to facilitate good nutrition through their products and marketing<cite id=\"oepta\"><a href=\"#zotero%7C13811894%2FAKAGSTMH\">(<i>210630-ATN-_-Global-Methodology-Report_V4.Pdf</i>, n.d.)</a></cite>. The index has three key areas of measurement; 1) *The Corporate Profile*, which measures a company's policies, practice and disclosure related to promoting good nutrition and preventing malnutrition and undernutrition in all forms; 2) *The Product Profile*, which assesses the nutritional quality of a company's product portfolio across different markets, taken by analyzing the levels of fat, sugar, salt, fruit and vegetables, and other components within an individual product; and 3) *The Baby-Milk Substitute / Complimentary Foods (BMS / CF) Marketing Assessment*, which assesses whether the marketing policies of major global baby food manufacturers are in full compliance of the International Code of Marketing of BMS and subsequent World Health Assembly (WHA) resolutions; and whether they have the management systems in place that can ensure proper implementation of those policies <cite id=\"gl4a4\"><a href=\"#zotero%7C13811894%2FAKAGSTMH\">(<i>210630-ATN-_-Global-Methodology-Report_V4.Pdf</i>, n.d.)</a></cite>. The metric is very good for showing which companies (though only those that provide sufficient data to the ATNI) do more to influence sustainable diets, but it is not a good methodology for measuring sustainability according the scope mentioned so far. It doesn't cover issues related to environmental sustainability, contribution of companies to climate change, and a fair treatment of workers and communities, all of which are among pillar aspects of the social and environmental dimensions of a food system sustainability analysis<cite id=\"66xip\"><a href=\"#zotero%7C13811894%2FAKAGSTMH\">(<i>210630-ATN-_-Global-Methodology-Report_V4.Pdf</i>, n.d.)</a></cite><cite id=\"3qpht\"><a href=\"#zotero%7C13811894%2FGNSKDNPU\">(Gustafson et al., 2016)</a></cite>. It also fails to cover the contribution that companies, as a node of players in the food system, have on influencing sustainable diets <cite id=\"gdyld\"><a href=\"#zotero%7C13811894%2FX72BEQ9J\">(Johnston et al., 2014)</a></cite>. This makes it a relatively undesireable methodology for a full food system sustainability assessment.  \n",
    "\n",
    "\n",
    "\n",
    "#### 2.3. The Seven Metrics of Sustainable Nutritional Security\n",
    "\n",
    "Proposed by Gustafson et al<cite id=\"w2nje\"><a href=\"#zotero%7C13811894%2FGNSKDNPU\">(Gustafson et al., 2016)</a></cite>, the study is a multidisciplinary attempt to bridge the gap between nutritional thinking, food security, and sustainability in food system analyses<cite id=\"78d6r\"><a href=\"#zotero%7C13811894%2FGNSKDNPU\">(Gustafson et al., 2016)</a></cite>. The authors propose seven nutritional security metrics covering nutrition, climate change, food system, and micro and macro economics, created after a consensus report by scientists in the aforementioned fields and a stakeholder workshop involving stakeholders from governments, academia, and industry<cite id=\"roh8r\"><a href=\"#zotero%7C13811894%2FGNSKDNPU\">(Gustafson et al., 2016)</a></cite>. The metrics include:  \n",
    "* Food Nutrient Adequacy; Measured by \n",
    "* Ecosystem Stability; Measured by\n",
    "* Food affordability and Availability; Measured by  \n",
    "* Sociocultural Wellbeing; Measured by\n",
    "* Resilience; Measured by  \n",
    "* Food Safety; Measured by  \n",
    "* Waster & Loss Reduction; Measured by\n",
    "\n",
    "\n",
    "Two of the main criteria used in creating the metrics were: 1) To avoid needless creation of new metrics when suitable ones already exist in the literature; 2) The metrics being based on open data<cite id=\"dd4sr\"><a href=\"#zotero%7C13811894%2FGNSKDNPU\">(Gustafson et al., 2016)</a></cite>. These give a very good relevance to the method, as they avoid unnecessary repetition and make sure that studies can easly be made by anyone, using these metrics, without much bureaucracy. The scope of the metrics also provides a conceptual framework that adequately covers the whole scope of sustainability when it comes to food systems <cite id=\"o68wc\"><a href=\"#zotero%7C13811894%2FAVEAMUUI\">(Boylan et al., 2020)</a></cite>, something that is very useful in policy-setting and country comparison. While other methods such as Input-Output analyses can be hailed for producing a framework in which different aspects of food and nutrition security can be measured under an identical scope<cite id=\"froqi\"><a href=\"#zotero%7C13811894%2FAVEAMUUI\">(Boylan et al., 2020)</a></cite>, most of them don't provide this tailored set of indicators specifically for food system analysis. Besides, most of these methods, such as LCA analysis, are part of measurements used within the seven metrics framework to measure indicators that are measureable in a life-cycle perspective<cite id=\"q0m3l\"><a href=\"#zotero%7C13811894%2FGNSKDNPU\">(Gustafson et al., 2016)</a></cite>.\n",
    "\n",
    "The methodology also creates what <cite id=\"622zk\"><a href=\"#zotero%7C13811894%2FZYPC6GLS\">(von Braun et al., 2021b)</a></cite> calls a right definition of a sustainable food system, that is, one that is precise enough to narrow down policy goals and assist in the implementation of national and global development agenda, but also one that is detailed enough not to exclude any aspects of the economic, social and ecological dimensions of sustainability. Input-Output Analyses, for example, doesn't have these dimensions inherently as a method, but instead, it is left on the descretion of the researcher to go and look for appropriate metrics that can measure sustainability in food systems. Such an approach brings everybody back to the problem of national and regional agenda, where dimensions of sustainability which are less relevant to some are left unmeasured<cite id=\"h1243\"><a href=\"#zotero%7C13811894%2F4U2X9QKR\">(Harrison et al., 2022)</a></cite>. It is therefore important that eventhough the metrics do contain indicators that cannot be measured at the same scale at different geographical areas<cite id=\"ptja4\"><a href=\"#zotero%7C13811894%2FAVEAMUUI\">(Boylan et al., 2020)</a></cite> in some dimensions, they still provide an adequate platform for measuring exactly what sustainability of a food system is. It can also be explored further, that the difference in scale culminates to an adequate, location specific performance of a metric, as opposed to a standard scale, which might, in some cases obscure or misrepresent the true performance of a region. Boylan et al<cite id=\"zc6ej\"><a href=\"#zotero%7C13811894%2FAVEAMUUI\">(Boylan et al., 2020)</a></cite> for example, criticised food affordability as one of the indicators that can't be measured in a life-cycle perspective (because it is only relevant to consumers), but affordability is an important dimension in all food security analyses<cite id=\"qeiih\"><a href=\"#zotero%7C13811894%2FZYPC6GLS\">(von Braun et al., 2021b)</a></cite>, and measuring it makes the conceptual framework complete."
   ]
  },
  {
   "cell_type": "raw",
   "id": "aca35878-ca8a-421c-af90-af10ee1f3062",
   "metadata": {
    "raw_mimetype": "text/latex",
    "tags": []
   },
   "source": [
    "### References\n",
    "\n",
    "<!-- BIBLIOGRAPHY START -->\n",
    "<div class=\"csl-bib-body\">\n",
    "  <div class=\"csl-entry\"><i id=\"zotero|13811894/AKAGSTMH\"></i><i>210630-ATN-_-Global-Methodology-Report_V4.pdf</i>. (n.d.). Retrieved December 23, 2022, from <a href=\"https://accesstonutrition.org/app/uploads/2020/06/210630-ATN-_-Global-Methodology-Report_V4.pdf\">https://accesstonutrition.org/app/uploads/2020/06/210630-ATN-_-Global-Methodology-Report_V4.pdf</a></div>\n",
    "  <div class=\"csl-entry\"><i id=\"zotero|13811894/V5FGMGA2\"></i><i>A-balance-of-healthy-and-sustainable-food-choices.pdf</i>. (n.d.). Retrieved December 13, 2022, from <a href=\"https://livewellforlife.eu/wp-content/uploads/2013/02/A-balance-of-healthy-and-sustainable-food-choices.pdf\">https://livewellforlife.eu/wp-content/uploads/2013/02/A-balance-of-healthy-and-sustainable-food-choices.pdf</a></div>\n",
    "  <div class=\"csl-entry\"><i id=\"zotero|13811894/N33WV9XV\"></i>Allesch, A., and Brunner, P. H. (2015). Material Flow Analysis as a Decision Support Tool for Waste Management: A Literature Review. <i>Journal of Industrial Ecology</i>, <i>19</i>(5), 753–764. <a href=\"https://doi.org/10.1111/jiec.12354\">https://doi.org/10.1111/jiec.12354</a></div>\n",
    "  <div class=\"csl-entry\"><i id=\"zotero|13811894/AG3GI4YC\"></i>Auestad, N., and Fulgoni, V. L., III. (2015). What current literature tells us about sustainable diets: Emerging research linking dietary patterns, environmental sustainability, and economics. <i>Advances in Nutrition</i>, <i>6</i>(1), 19–36. Scopus. <a href=\"https://doi.org/10.3945/an.114.005694\">https://doi.org/10.3945/an.114.005694</a></div>\n",
    "  <div class=\"csl-entry\"><i id=\"zotero|13811894/FIRKRFRE\"></i>Ayres, R. U., Ayres, L., and Ayres, L. W. (1999). <i>Accounting for Resources, 2: The Life Cycle of Materials</i>. Edward Elgar Publishing.</div>\n",
    "  <div class=\"csl-entry\"><i id=\"zotero|13811894/XDI8F2S8\"></i>Behrens, P., Kiefte-de Jong, J. C., Bosker, T., Rodrigues, J. F. D., de Koning, A., and Tukker, A. (2017). Evaluating the environmental impacts of dietary recommendations. <i>Proceedings of the National Academy of Sciences</i>, <i>114</i>(51), 13412–13417. <a href=\"https://doi.org/10.1073/pnas.1711889114\">https://doi.org/10.1073/pnas.1711889114</a></div>\n",
    "  <div class=\"csl-entry\"><i id=\"zotero|13811894/AVEAMUUI\"></i>Boylan, S. M., Thow, A.-M., Tyedmers, E. K., Malik, A., Salem, J., Alders, R., Raubenheimer, D., and Lenzen, M. (2020). Using Input-Output Analysis to Measure Healthy, Sustainable Food Systems. <i>Frontiers in Sustainable Food Systems</i>, <i>4</i>. <a href=\"https://doi.org/10.3389/fsufs.2020.00093\">https://doi.org/10.3389/fsufs.2020.00093</a></div>\n",
    "  <div class=\"csl-entry\"><i id=\"zotero|13811894/2L6QCGPV\"></i>Brunner, P. H. (2012). Substance Flow Analysis. <i>Journal of Industrial Ecology</i>, <i>16</i>(3), 293–295. <a href=\"https://doi.org/10.1111/j.1530-9290.2012.00496.x\">https://doi.org/10.1111/j.1530-9290.2012.00496.x</a></div>\n",
    "  <div class=\"csl-entry\"><i id=\"zotero|13811894/RUDNEP2X\"></i>Chaudhary, A., Gustafson, D., and Mathys, A. (2018). Multi-indicator sustainability assessment of global food systems. <i>Nature Communications</i>, <i>9</i>(1), 848. <a href=\"https://doi.org/10.1038/s41467-018-03308-7\">https://doi.org/10.1038/s41467-018-03308-7</a></div>\n",
    "  <div class=\"csl-entry\"><i id=\"zotero|13811894/99LNLXPX\"></i>del Valle M, M., Shields, K., Alvarado Vázquez Mellado, A. S., and Boza, S. (2022). Food governance for better access to sustainable diets: A review. <i>Frontiers in Sustainable Food Systems</i>, <i>6</i>. Scopus. <a href=\"https://doi.org/10.3389/fsufs.2022.784264\">https://doi.org/10.3389/fsufs.2022.784264</a></div>\n",
    "  <div class=\"csl-entry\"><i id=\"zotero|13811894/INFXXM6L\"></i>Ekvall, T. (2019). <i>Attributional and Consequential Life Cycle Assessment</i>. IntechOpen. <a href=\"https://doi.org/10.5772/intechopen.89202\">https://doi.org/10.5772/intechopen.89202</a></div>\n",
    "  <div class=\"csl-entry\"><i id=\"zotero|13811894/UPGD6SLC\"></i>Finley, J. W., Dimick, D., Marshall, E., Nelson, G. C., Mein, J. R., and Gustafson, D. I. (2017). Nutritional Sustainability: Aligning Priorities in Nutrition and Public Health with Agricultural Production. <i>Advances in Nutrition</i>, <i>8</i>(5), 780–788. <a href=\"https://doi.org/10.3945/an.116.013995\">https://doi.org/10.3945/an.116.013995</a></div>\n",
    "  <div class=\"csl-entry\"><i id=\"zotero|13811894/FRUI853H\"></i>Fischer-Kowalski, M., Krausmann, F., Giljum, S., Lutter, S., Mayer, A., Bringezu, S., Moriguchi, Y., Schütz, H., Schandl, H., and Weisz, H. (2011). Methodology and Indicators of Economy-wide Material Flow Accounting. <i>Journal of Industrial Ecology</i>, <i>15</i>(6), 855–876. <a href=\"https://doi.org/10.1111/j.1530-9290.2011.00366.x\">https://doi.org/10.1111/j.1530-9290.2011.00366.x</a></div>\n",
    "  <div class=\"csl-entry\"><i id=\"zotero|13811894/DMD9AT9Q\"></i>Gussow, J. D., and Clancy, K. L. (1986). Dietary guidelines for sustainability. <i>Journal of Nutrition Education</i>, <i>18</i>(1), 1–5. Scopus. <a href=\"https://doi.org/10.1016/S0022-3182(86)80255-2\">https://doi.org/10.1016/S0022-3182(86)80255-2</a></div>\n",
    "  <div class=\"csl-entry\"><i id=\"zotero|13811894/GNSKDNPU\"></i>Gustafson, D., Gutman, A., Leet, W., Drewnowski, A., Fanzo, J., and Ingram, J. (2016). Seven Food System Metrics of Sustainable Nutrition Security. <i>Sustainability</i>, <i>8</i>(3), 196. <a href=\"https://doi.org/10.3390/su8030196\">https://doi.org/10.3390/su8030196</a></div>\n",
    "  <div class=\"csl-entry\"><i id=\"zotero|13811894/4U2X9QKR\"></i>Harrison, M. R., Palma, G., Buendia, T., Bueno-Tarodo, M., Quell, D., and Hachem, F. (2022). A Scoping Review of Indicators for Sustainable Healthy Diets. <i>Frontiers in Sustainable Food Systems</i>, <i>5</i>. Scopus. <a href=\"https://doi.org/10.3389/fsufs.2021.822263\">https://doi.org/10.3389/fsufs.2021.822263</a></div>\n",
    "  <div class=\"csl-entry\"><i id=\"zotero|13811894/63RNQN8V\"></i><i>HLPE Report # 12 - Nutrition and food systems</i>. (n.d.).</div>\n",
    "  <div class=\"csl-entry\"><i id=\"zotero|13811894/X72BEQ9J\"></i>Johnston, J. L., Fanzo, J. C., and Cogill, B. (2014). Understanding sustainable diets: A descriptive analysis of the determinants and processes that influence diets and their impact on health, food security, and environmental sustainability. <i>Advances in Nutrition</i>, <i>5</i>(4), 418–429. Scopus. <a href=\"https://doi.org/10.3945/an.113.005553\">https://doi.org/10.3945/an.113.005553</a></div>\n",
    "  <div class=\"csl-entry\"><i id=\"zotero|13811894/W3I689U5\"></i>Kytzia, S., Faist, M., and Baccini, P. (2004). Economically extended—MFA: a material flow approach for a better understanding of food production chain. <i>Journal of Cleaner Production</i>, <i>12</i>(8), 877–889. <a href=\"https://doi.org/10.1016/j.jclepro.2004.02.004\">https://doi.org/10.1016/j.jclepro.2004.02.004</a></div>\n",
    "  <div class=\"csl-entry\"><i id=\"zotero|13811894/JE9JI6IQ\"></i>Lang, T. (2010). Crisis? What Crisis? The Normality of the Current Food Crisis. <i>Journal of Agrarian Change</i>, <i>10</i>(1), 87–97. <a href=\"https://doi.org/10.1111/j.1471-0366.2009.00250.x\">https://doi.org/10.1111/j.1471-0366.2009.00250.x</a></div>\n",
    "  <div class=\"csl-entry\"><i id=\"zotero|13811894/YMS5KSMY\"></i>Malassis, L. (Ed.). (1983). <i>Food Systems Analysis</i>. <a href=\"https://doi.org/10.22004/ag.econ.198267\">https://doi.org/10.22004/ag.econ.198267</a></div>\n",
    "  <div class=\"csl-entry\"><i id=\"zotero|13811894/6JCYZ6H9\"></i>Molden, D. (2013). <i>Water for food water for life: A Comprehensive assessment of water management in agriculture</i>. Scopus. <a href=\"https://doi.org/10.4324/9781849773799\">https://doi.org/10.4324/9781849773799</a></div>\n",
    "  <div class=\"csl-entry\"><i id=\"zotero|13811894/72UUDM8R\"></i>Muralikrishna, I. V., and Manickam, V. (2017). Chapter Five - Life Cycle Assessment. In I. V. Muralikrishna and V. Manickam (Eds.), <i>Environmental Management</i> (pp. 57–75). Butterworth-Heinemann. <a href=\"https://doi.org/10.1016/B978-0-12-811989-1.00005-1\">https://doi.org/10.1016/B978-0-12-811989-1.00005-1</a></div>\n",
    "  <div class=\"csl-entry\"><i id=\"zotero|13811894/QLFKA8G9\"></i><i>Population</i>. (n.d.). Our World in Data. Retrieved December 15, 2022, from <a href=\"https://ourworldindata.org/grapher/population\">https://ourworldindata.org/grapher/population</a></div>\n",
    "  <div class=\"csl-entry\"><i id=\"zotero|13811894/I7SEHYLU\"></i><i>Sustainable Diets and Biodiversity - Directions and solutions for policy, research and actions</i>. (n.d.). Retrieved December 14, 2022, from <a href=\"https://www.fao.org/3/i3004e/i3004e00.htm\">https://www.fao.org/3/i3004e/i3004e00.htm</a></div>\n",
    "  <div class=\"csl-entry\"><i id=\"zotero|13811894/97N2BLLJ\"></i><i>Sustainable healthy diets: guiding principles</i>. (n.d.). Retrieved December 14, 2022, from <a href=\"https://www.who.int/publications-detail-redirect/9789241516648\">https://www.who.int/publications-detail-redirect/9789241516648</a></div>\n",
    "  <div class=\"csl-entry\"><i id=\"zotero|13811894/HFF2SJP5\"></i>Tilman, D., Clark, M., Williams, D. R., Kimmel, K., Polasky, S., and Packer, C. (2017). Future threats to biodiversity and pathways to their prevention. <i>Nature</i>, <i>546</i>(7656), 73–81. Scopus. <a href=\"https://doi.org/10.1038/nature22900\">https://doi.org/10.1038/nature22900</a></div>\n",
    "  <div class=\"csl-entry\"><i id=\"zotero|13811894/PHJRIETV\"></i>von Braun, J., Afsana, K., Fresco, L. O., Hassan, M., and Torero, M. (2021a). Food system concepts and definitions for science and political action. <i>Nature Food</i>, <i>2</i>(10), 748–750. <a href=\"https://doi.org/10.1038/s43016-021-00361-2\">https://doi.org/10.1038/s43016-021-00361-2</a></div>\n",
    "  <div class=\"csl-entry\"><i id=\"zotero|13811894/ZYPC6GLS\"></i>von Braun, J., Afsana, K., Fresco, L. O., Hassan, M., and Torero, M. (2021b). <i>Food Systems</i> [Report]. Center for Development Research (ZEF) in cooperation with the Scientific Group for the UN Food System Summit 2021. <a href=\"https://doi.org/10.48565/scfss2021-re63\">https://doi.org/10.48565/scfss2021-re63</a></div>\n",
    "</div>\n",
    "<!-- BIBLIOGRAPHY END -->"
   ]
  },
  {
   "cell_type": "code",
   "execution_count": 3,
   "id": "d5ad5a7a-aa51-4677-af84-2f2a86701f72",
   "metadata": {},
   "outputs": [
    {
     "name": "stdout",
     "output_type": "stream",
     "text": [
      "[NbConvertApp] Converting notebook LitReview.ipynb to latex\n",
      "[NbConvertApp] Writing 53843 bytes to LitReview.tex\n"
     ]
    }
   ],
   "source": [
    "!jupyter nbconvert --to latex --no-input LitReview.ipynb"
   ]
  }
 ],
 "metadata": {
  "citation-manager": {
   "items": {
    "zotero": {
     "13811894/2L6QCGPV": {
      "DOI": "10.1111/j.1530-9290.2012.00496.x",
      "URL": "https://onlinelibrary.wiley.com/doi/abs/10.1111/j.1530-9290.2012.00496.x",
      "accessed": {
       "date-parts": [
        [
         2022,
         12,
         29
        ]
       ]
      },
      "author": [
       {
        "family": "Brunner",
        "given": "Paul H."
       }
      ],
      "container-title": "Journal of Industrial Ecology",
      "id": "13811894/2L6QCGPV",
      "issue": "3",
      "issued": {
       "date-parts": [
        [
         2012
        ]
       ]
      },
      "language": "en",
      "note": "_eprint: https://onlinelibrary.wiley.com/doi/pdf/10.1111/j.1530-9290.2012.00496.x",
      "page": "293-295",
      "system_id": "zotero|13811894/2L6QCGPV",
      "title": "Substance Flow Analysis",
      "type": "article-journal",
      "volume": "16"
     },
     "13811894/4U2X9QKR": {
      "DOI": "10.3389/fsufs.2021.822263",
      "abstract": "Introduction: Diets are currently unsustainable in many countries as evidenced by the growing burden of malnutrition, degradation of natural resources, contributions to climate change, and unaffordability of healthy diets. Agreement on what constitutes a healthy and sustainable diet has been debated. In 2019, FAO and WHO published the Sustainable Healthy Diets Guiding Principles, defining what qualifies as a sustainable healthy diet. While valuable, these principles require measurable indicators to support their operationalization. Our scoping review aims to describe how sustainable healthy diets have been assessed in the literature since 2010. Methods: A search for English-language articles published in peer-reviewed journals was conducted from January 2010 through February 2020 across three databases. Out of the 504 articles initially identified, 103 articles were included. Metadata were extracted from each article on: publication year, country of study, study aims, methods, main data sources, indicators used to assess sustainable healthy diets, reported indicator strengths or limitations, and main study findings. A qualitative content analysis identified major conceptual themes across indicators and their frequency of use. Findings: From the 103 empirical articles included in our review, 57.3% were published after 2017. Most studies were carried out in high-income countries (74%). Approximately 42% of the articles assessed the sustainability of diets using solely health and environmental indicators; <25% assessed the sustainability of diets across health, environmental, and sociocultural aspects of sustainability. We found a substantial number of unique indicators used for assessing health (n = 82), environmental (n = 117), and sociocultural (n = 43) aspects of diets. These indicators covered concepts related to health outcomes, aspects of diet quality, natural resources, climate change, cultural acceptability, and cost of diets. The preponderance of indicators currently used in research likely poses challenges for stakeholders to identify the most appropriate measures. Conclusion: Robust indicators for sustainable healthy diets are critical for understanding trends, setting targets, and monitoring progress across national and sub-national levels. Our review highlights the geographical imbalance, the narrow focus on health and environmental aspects, and the lack of common measures used in research. Measures registries could provide the decision-support needed by stakeholders to aid in the indicator selection process. Copyright © 2022 Harrison, Palma, Buendia, Bueno-Tarodo, Quell and Hachem.",
      "archive": "Scopus",
      "author": [
       {
        "family": "Harrison",
        "given": "M.R."
       },
       {
        "family": "Palma",
        "given": "G."
       },
       {
        "family": "Buendia",
        "given": "T."
       },
       {
        "family": "Bueno-Tarodo",
        "given": "M."
       },
       {
        "family": "Quell",
        "given": "D."
       },
       {
        "family": "Hachem",
        "given": "F."
       }
      ],
      "container-title": "Frontiers in Sustainable Food Systems",
      "id": "13811894/4U2X9QKR",
      "issued": {
       "date-parts": [
        [
         2022
        ]
       ]
      },
      "language": "English",
      "system_id": "zotero|13811894/4U2X9QKR",
      "title": "A Scoping Review of Indicators for Sustainable Healthy Diets",
      "type": "article-journal",
      "volume": "5"
     },
     "13811894/63RNQN8V": {
      "id": "13811894/63RNQN8V",
      "language": "en",
      "system_id": "zotero|13811894/63RNQN8V",
      "title": "HLPE Report # 12 - Nutrition and food systems",
      "type": "article-journal"
     },
     "13811894/6JCYZ6H9": {
      "ISBN": "978-1-84977-379-9",
      "abstract": "Managing water resources is one of the most pressing challenges of our times - fundamental to how we feed 2 billion more people in coming decades, eliminate poverty, and reverse ecosystem degradation. This Comprehensive Assessment of Water Management in Agriculture, involving more than 700 leading specialists, evaluates current thinking on water and its interplay with agriculture to help chart the way forward. It offers actions for water management and water policy - to ensure more equitable and effective use. This assessment describes key water-food-environment trends that influence our lives today and uses scenarios to explore the consequences of a range of potential investments. It aims to inform investors and policymakers about water and food choices in light of such crucial influences as poverty, ecosystems, governance, and productivity. It covers rainfed agriculture, irrigation, groundwater, marginal-quality water, fisheries, livestock, rice, land, and river basins. Ample tables, graphs, and references make this an invaluable work for practitioners, academics, researchers, and policymakers in water management, agriculture, conservation, and development. Published with IWMI. © 2007 International Water Management Institute. All rights reserved.",
      "archive": "Scopus",
      "author": [
       {
        "family": "Molden",
        "given": "D."
       }
      ],
      "collection-title": "Water for Food Water for Life: A Comprehensive Assessment of Water Management in Agriculture",
      "id": "13811894/6JCYZ6H9",
      "issued": {
       "date-parts": [
        [
         2013
        ]
       ]
      },
      "language": "English",
      "note": "Pages: 645\nDOI: 10.4324/9781849773799",
      "number-of-pages": "1",
      "shortTitle": "Water for food water for life",
      "system_id": "zotero|13811894/6JCYZ6H9",
      "title": "Water for food water for life: A Comprehensive assessment of water management in agriculture",
      "type": "book"
     },
     "13811894/72UUDM8R": {
      "ISBN": "978-0-12-811989-1",
      "URL": "https://www.sciencedirect.com/science/article/pii/B9780128119891000051",
      "abstract": "Life cycle assessment is a cradle-to-grave or cradle-to-cradle analysis technique to assess environmental impacts associated with all the stages of a product's life, which is from raw material extraction through materials processing, manufacture, distribution, and use. In this chapter, the methodology for conducting a life cycle assessment to international standards (ISO) 14040 is elaborated. In addition, how to conduct a streamlined life cycle assessments is also discussed.",
      "accessed": {
       "date-parts": [
        [
         2022,
         12,
         20
        ]
       ]
      },
      "author": [
       {
        "family": "Muralikrishna",
        "given": "Iyyanki V."
       },
       {
        "family": "Manickam",
        "given": "Valli"
       }
      ],
      "container-title": "Environmental Management",
      "editor": [
       {
        "family": "Muralikrishna",
        "given": "Iyyanki V."
       },
       {
        "family": "Manickam",
        "given": "Valli"
       }
      ],
      "id": "13811894/72UUDM8R",
      "issued": {
       "date-parts": [
        [
         2017,
         1,
         1
        ]
       ]
      },
      "language": "en",
      "note": "DOI: 10.1016/B978-0-12-811989-1.00005-1",
      "page": "57-75",
      "publisher": "Butterworth-Heinemann",
      "system_id": "zotero|13811894/72UUDM8R",
      "title": "Chapter Five - Life Cycle Assessment",
      "type": "chapter"
     },
     "13811894/97N2BLLJ": {
      "URL": "https://www.who.int/publications-detail-redirect/9789241516648",
      "abstract": "These guiding principles take a holistic approach to diets; they consider international nutrition recommendations; the environmental cost of food production and consumption; and the adaptability to local social, cultural and economic contexts. At the Consultation the experts agreed on the term “Sustainable Healthy Diets” which encompasses the two dimensions – sustainability and healthiness of diets. Countries should decide on the trade-offs according to their situations and goals.",
      "accessed": {
       "date-parts": [
        [
         2022,
         12,
         14
        ]
       ]
      },
      "id": "13811894/97N2BLLJ",
      "language": "en",
      "shortTitle": "Sustainable healthy diets",
      "system_id": "zotero|13811894/97N2BLLJ",
      "title": "Sustainable healthy diets: guiding principles",
      "type": "webpage"
     },
     "13811894/99LNLXPX": {
      "DOI": "10.3389/fsufs.2022.784264",
      "abstract": "‘Governance’, understood as organizational governance, is essential to more sustainable food provisioning systems ensuring sustainable health, heritage, and natural environments. Governance enables regional and local perspectives to be aligned with commitments from national and international organizations. Within the wealth of scholarship on food systems governance, agricultural governance and agency is a rarely interrogated dimension, despite the clear impacts of agricultural decisions on health and environmental outcomes. In this paper we discuss the findings of a scoping review that focuses on the question “How can food governance transform food systems to ensure better access to sustainable diets?”, meaning diet that protect health, cultures, and the natural environment. Our results show that it is first needed to determine the governance level and the expected outcomes. From a national perspective, policy coherence is described as a way in which different public institutions can add to the sustainable diets access goal. From a local perspective, community supported activities and the incorporation of local knowledge are also described as ways that can help achieving an improvement on sustainable diets access. Either from a regional or local perspective, commitment from organizations must be ensured for common objectives being aligned. Also, it is necessary to request more from the agricultural sector role in delivering nutritionally and environmentally appropriate food. Thus, the idea of governing agriculture as a health and environmental activity is an approach that should be considered when designing, implementing, and assessing food systems. Copyright © 2022 del Valle M, Shields, Alvarado Vázquez Mellado and Boza.",
      "archive": "Scopus",
      "author": [
       {
        "family": "del Valle M",
        "given": "M."
       },
       {
        "family": "Shields",
        "given": "K."
       },
       {
        "family": "Alvarado Vázquez Mellado",
        "given": "A.S."
       },
       {
        "family": "Boza",
        "given": "S."
       }
      ],
      "container-title": "Frontiers in Sustainable Food Systems",
      "id": "13811894/99LNLXPX",
      "issued": {
       "date-parts": [
        [
         2022
        ]
       ]
      },
      "language": "English",
      "shortTitle": "Food governance for better access to sustainable diets",
      "system_id": "zotero|13811894/99LNLXPX",
      "title": "Food governance for better access to sustainable diets: A review",
      "type": "article-journal",
      "volume": "6"
     },
     "13811894/AG3GI4YC": {
      "DOI": "10.3945/an.114.005694",
      "abstract": "The concept of sustainable diets, although not new, is gaining increased attention across the globe, especially in relation to projected population growth and growing concerns about climate change. As defined by the FAO (Proceedings of the International Scientific Symposium, Biodiversity and Sustainable Diets 2010; FAO 2012), \"Sustainable diets are those diets with low environmental impacts which contribute to food and nutrition security and to healthy life for present and future generations.\" Consistent and credible science that brings together agriculture, food systems, nutrition, public health, environment, economics, culture, and trade is needed to identify synergies and trade-offs and to inform guidance on vital elements of healthy, sustainable diets. The aim of this article is to review the emerging research on environmental and related economic impacts of dietary patterns, including habitual eating patterns, nutritionally balanced diets, and a variety of different dietary scenarios. Approaches to research designs, methodologies, and data sources are compared and contrasted to identify research gaps and future research needs. To date, it is difficult to assimilate all of the disparate approaches, and more concerted efforts for multidisciplinary studies are needed. © 2015 American Society for Nutrition.",
      "archive": "Scopus",
      "author": [
       {
        "family": "Auestad",
        "given": "N."
       },
       {
        "family": "Fulgoni",
        "given": "V.L., III"
       }
      ],
      "container-title": "Advances in Nutrition",
      "id": "13811894/AG3GI4YC",
      "issue": "1",
      "issued": {
       "date-parts": [
        [
         2015
        ]
       ]
      },
      "language": "English",
      "page": "19-36",
      "shortTitle": "What current literature tells us about sustainable diets",
      "system_id": "zotero|13811894/AG3GI4YC",
      "title": "What current literature tells us about sustainable diets: Emerging research linking dietary patterns, environmental sustainability, and economics",
      "type": "article-journal",
      "volume": "6"
     },
     "13811894/AKAGSTMH": {
      "URL": "https://accesstonutrition.org/app/uploads/2020/06/210630-ATN-_-Global-Methodology-Report_V4.pdf",
      "accessed": {
       "date-parts": [
        [
         2022,
         12,
         23
        ]
       ]
      },
      "id": "13811894/AKAGSTMH",
      "system_id": "zotero|13811894/AKAGSTMH",
      "title": "210630-ATN-_-Global-Methodology-Report_V4.pdf",
      "type": "article"
     },
     "13811894/AVEAMUUI": {
      "DOI": "10.3389/fsufs.2020.00093",
      "URL": "https://www.frontiersin.org/articles/10.3389/fsufs.2020.00093",
      "author": [
       {
        "family": "Boylan",
        "given": "Sinead M."
       },
       {
        "family": "Thow",
        "given": "Anne-Marie"
       },
       {
        "family": "Tyedmers",
        "given": "Elijah K."
       },
       {
        "family": "Malik",
        "given": "Arunima"
       },
       {
        "family": "Salem",
        "given": "Janet"
       },
       {
        "family": "Alders",
        "given": "Robyn"
       },
       {
        "family": "Raubenheimer",
        "given": "David"
       },
       {
        "family": "Lenzen",
        "given": "Manfred"
       }
      ],
      "container-title": "Frontiers in Sustainable Food Systems",
      "id": "13811894/AVEAMUUI",
      "issued": {
       "date-parts": [
        [
         2020
        ]
       ]
      },
      "system_id": "zotero|13811894/AVEAMUUI",
      "title": "Using Input-Output Analysis to Measure Healthy, Sustainable Food Systems",
      "type": "article-journal",
      "volume": "4"
     },
     "13811894/DMD9AT9Q": {
      "DOI": "10.1016/S0022-3182(86)80255-2",
      "archive": "Scopus",
      "author": [
       {
        "family": "Gussow",
        "given": "J.D."
       },
       {
        "family": "Clancy",
        "given": "K.L."
       }
      ],
      "container-title": "Journal of Nutrition Education",
      "id": "13811894/DMD9AT9Q",
      "issue": "1",
      "issued": {
       "date-parts": [
        [
         1986
        ]
       ]
      },
      "language": "English",
      "page": "1-5",
      "system_id": "zotero|13811894/DMD9AT9Q",
      "title": "Dietary guidelines for sustainability",
      "type": "article-journal",
      "volume": "18"
     },
     "13811894/FIRKRFRE": {
      "ISBN": "978-1-78195-972-5",
      "abstract": "The book also includes a longitudinal study of heavy metals use and dissipation, during the period 1880-1980 with reference to the Huson-Raritan basin. It concludes with an overview, including some recommendations for future research and for policy change",
      "author": [
       {
        "family": "Ayres",
        "given": "Robert U."
       },
       {
        "family": "Ayres",
        "given": "Leslie"
       },
       {
        "family": "Ayres",
        "given": "Leslie W."
       }
      ],
      "id": "13811894/FIRKRFRE",
      "issued": {
       "date-parts": [
        [
         1999,
         11,
         25
        ]
       ]
      },
      "language": "en",
      "note": "Google-Books-ID: mqNJwhOo9S8C",
      "number-of-pages": "406",
      "publisher": "Edward Elgar Publishing",
      "shortTitle": "Accounting for Resources, 2",
      "system_id": "zotero|13811894/FIRKRFRE",
      "title": "Accounting for Resources, 2: The Life Cycle of Materials",
      "type": "book"
     },
     "13811894/FRUI853H": {
      "DOI": "10.1111/j.1530-9290.2011.00366.x",
      "URL": "https://onlinelibrary.wiley.com/doi/abs/10.1111/j.1530-9290.2011.00366.x",
      "abstract": "This contribution presents the state of the art of economy-wide material flow accounting. Starting from a brief recollection of the intellectual and policy history of this approach, we outline system definition, key methodological assumptions, and derived indicators. The next section makes an effort to establish data reliability and uncertainty for a number of existing multinational (European and global) material flow accounting (MFA) data compilations and discusses sources of inconsistencies and variations for some indicators and trends. The results show that the methodology has reached a certain maturity: Coefficients of variation between databases lie in the range of 10% to 20%, and correlations between databases across countries amount to an average R2 of 0.95. After discussing some of the research frontiers for further methodological development, we conclude that the material flow accounting framework and the data generated have reached a maturity that warrants material flow indicators to complement traditional economic and demographic information in providing a sound basis for discussing national and international policies for sustainable resource use.",
      "accessed": {
       "date-parts": [
        [
         2022,
         12,
         28
        ]
       ]
      },
      "author": [
       {
        "family": "Fischer-Kowalski",
        "given": "M."
       },
       {
        "family": "Krausmann",
        "given": "F."
       },
       {
        "family": "Giljum",
        "given": "S."
       },
       {
        "family": "Lutter",
        "given": "S."
       },
       {
        "family": "Mayer",
        "given": "A."
       },
       {
        "family": "Bringezu",
        "given": "S."
       },
       {
        "family": "Moriguchi",
        "given": "Y."
       },
       {
        "family": "Schütz",
        "given": "H."
       },
       {
        "family": "Schandl",
        "given": "H."
       },
       {
        "family": "Weisz",
        "given": "H."
       }
      ],
      "container-title": "Journal of Industrial Ecology",
      "id": "13811894/FRUI853H",
      "issue": "6",
      "issued": {
       "date-parts": [
        [
         2011
        ]
       ]
      },
      "language": "en",
      "note": "_eprint: https://onlinelibrary.wiley.com/doi/pdf/10.1111/j.1530-9290.2011.00366.x",
      "page": "855-876",
      "system_id": "zotero|13811894/FRUI853H",
      "title": "Methodology and Indicators of Economy-wide Material Flow Accounting",
      "type": "article-journal",
      "volume": "15"
     },
     "13811894/GNSKDNPU": {
      "DOI": "10.3390/su8030196",
      "URL": "https://www.mdpi.com/2071-1050/8/3/196",
      "abstract": "Sustainability considerations have been absent from most food security assessments conducted to date, despite the tremendous economic, environmental, and social implications of meeting accelerating food demand in the face of water shortages and climate change. In addition, previous food security work has generally focused only on achieving adequate calories, rather than addressing dietary diversity and micronutrient adequacy, both of which are critical to maintaining a healthy overall nutritional status. In response to the limitations of previous assessments, a new methodology is proposed here based on the concept of “sustainable nutrition security” (SNS). This novel assessment methodology is intended to remedy both kinds of deficiencies in the previous work by defining seven metrics, each based on a combination of multiple indicators, for use in characterizing sustainable nutrition outcomes of food systems: (1) food nutrient adequacy; (2) ecosystem stability; (3) food affordability and availability; (4) sociocultural wellbeing; (5) food safety; (6) resilience; and (7) waste and loss reduction. Each of the metrics comprises multiple indicators that are combined to derive an overall score (0–100). A novel SNS assessment methodology based on these metrics can be deployed by decision-makers and investors to set meaningful goals, track progress, and evaluate the potential impact of food system interventions intended to improve sustainability and human nutrition outcomes.",
      "accessed": {
       "date-parts": [
        [
         2022,
         12,
         17
        ]
       ]
      },
      "author": [
       {
        "family": "Gustafson",
        "given": "David"
       },
       {
        "family": "Gutman",
        "given": "Alona"
       },
       {
        "family": "Leet",
        "given": "Whitney"
       },
       {
        "family": "Drewnowski",
        "given": "Adam"
       },
       {
        "family": "Fanzo",
        "given": "Jessica"
       },
       {
        "family": "Ingram",
        "given": "John"
       }
      ],
      "container-title": "Sustainability",
      "id": "13811894/GNSKDNPU",
      "issue": "3",
      "issued": {
       "date-parts": [
        [
         2016,
         3
        ]
       ]
      },
      "language": "en",
      "note": "Number: 3\nPublisher: Multidisciplinary Digital Publishing Institute",
      "page": "196",
      "system_id": "zotero|13811894/GNSKDNPU",
      "title": "Seven Food System Metrics of Sustainable Nutrition Security",
      "type": "article-journal",
      "volume": "8"
     },
     "13811894/HFF2SJP5": {
      "DOI": "10.1038/nature22900",
      "abstract": "Tens of thousands of species are threatened with extinction as a result of human activities. Here we explore how the extinction risks of terrestrial mammals and birds might change in the next 50 years. Future population growth and economic development are forecasted to impose unprecedented levels of extinction risk on many more species worldwide, especially the large mammals of tropical Africa, Asia and South America. Yet these threats are not inevitable. Proactive international efforts to increase crop yields, minimize land clearing and habitat fragmentation, and protect natural lands could increase food security in developing nations and preserve much of Earth's remaining biodiversity. © 2017 Macmillan Publishers Limited, part of Springer Nature. All rights reserved.",
      "archive": "Scopus",
      "author": [
       {
        "family": "Tilman",
        "given": "D."
       },
       {
        "family": "Clark",
        "given": "M."
       },
       {
        "family": "Williams",
        "given": "D.R."
       },
       {
        "family": "Kimmel",
        "given": "K."
       },
       {
        "family": "Polasky",
        "given": "S."
       },
       {
        "family": "Packer",
        "given": "C."
       }
      ],
      "container-title": "Nature",
      "id": "13811894/HFF2SJP5",
      "issue": "7656",
      "issued": {
       "date-parts": [
        [
         2017
        ]
       ]
      },
      "language": "English",
      "page": "73-81",
      "system_id": "zotero|13811894/HFF2SJP5",
      "title": "Future threats to biodiversity and pathways to their prevention",
      "type": "article-journal",
      "volume": "546"
     },
     "13811894/I7SEHYLU": {
      "URL": "https://www.fao.org/3/i3004e/i3004e00.htm",
      "accessed": {
       "date-parts": [
        [
         2022,
         12,
         14
        ]
       ]
      },
      "id": "13811894/I7SEHYLU",
      "system_id": "zotero|13811894/I7SEHYLU",
      "title": "Sustainable Diets and Biodiversity - Directions and solutions for policy, research and actions",
      "type": "webpage"
     },
     "13811894/INFXXM6L": {
      "ISBN": "978-1-78984-977-6",
      "URL": "https://www.intechopen.com/state.item.id",
      "abstract": "An attributional life cycle assessment (ALCA) estimates what share of the global environmental burdens belongs to a product. A consequential LCA (CLCA) gives an estimate of how the global environmental burdens are affected by the production and use of the product. The distinction arose to resolve debates on what input data to use in an LCA and how to deal with allocation problems. An ALCA is based on average data, and allocation is performed by partitioning environmental burdens of a process between the life cycles served by this process. A CLCA ideally uses marginal data in many parts of the life cycle and avoids allocation through system expansion. This chapter aims to discuss and clarify the key concepts. It also discusses pros and cons of different methodological options, based on criteria derived from the starting point that environmental systems analysis should contribute to reducing the negative environmental impacts of humankind or at least reduce the impacts per functional unit: the method should be feasible and generate results that are accurate, comprehensible, inspiring, and robust. The CLCA is more accurate, but ALCA has other advantages. The decision to make an ALCA or a CLCA should ideally be taken by the LCA practitioner after discussions with the client and possibly with other stakeholders and colleagues.",
      "accessed": {
       "date-parts": [
        [
         2022,
         12,
         21
        ]
       ]
      },
      "author": [
       {
        "family": "Ekvall",
        "given": "Tomas"
       }
      ],
      "id": "13811894/INFXXM6L",
      "issued": {
       "date-parts": [
        [
         2019,
         9,
         24
        ]
       ]
      },
      "language": "en",
      "note": "Publication Title: Sustainability Assessment at the 21st century\nDOI: 10.5772/intechopen.89202",
      "publisher": "IntechOpen",
      "system_id": "zotero|13811894/INFXXM6L",
      "title": "Attributional and Consequential Life Cycle Assessment",
      "type": "book"
     },
     "13811894/JE9JI6IQ": {
      "DOI": "10.1111/j.1471-0366.2009.00250.x",
      "URL": "https://onlinelibrary.wiley.com/doi/abs/10.1111/j.1471-0366.2009.00250.x",
      "abstract": "The 2005–8 food crisis was a shock to political elites, but in some respects the situation was normal. Food policies are failing to respond adequately to the squeeze on land, people, health and environment. Strong evidence of systems failure and stress, termed here New Fundamentals, ought to reframe twenty-first century food politics and effort. Yet so far, international discourse is too often narrow and technical. The paper suggests that 2005–8 reinforced how the dominant twentieth century productionist policy paradigm is running out of steam. This assumed that producing more food would resolve social problems. Yet distortions in markets, access and culture remain. At national and international levels of governance, despite realization of the enormity of the challenge ahead, there is still a belief in slow incremental change.",
      "accessed": {
       "date-parts": [
        [
         2022,
         12,
         15
        ]
       ]
      },
      "author": [
       {
        "family": "Lang",
        "given": "Tim"
       }
      ],
      "container-title": "Journal of Agrarian Change",
      "id": "13811894/JE9JI6IQ",
      "issue": "1",
      "issued": {
       "date-parts": [
        [
         2010
        ]
       ]
      },
      "language": "en",
      "note": "_eprint: https://onlinelibrary.wiley.com/doi/pdf/10.1111/j.1471-0366.2009.00250.x",
      "page": "87-97",
      "shortTitle": "Crisis?",
      "system_id": "zotero|13811894/JE9JI6IQ",
      "title": "Crisis? What Crisis? The Normality of the Current Food Crisis",
      "type": "article-journal",
      "volume": "10"
     },
     "13811894/N33WV9XV": {
      "DOI": "10.1111/jiec.12354",
      "URL": "https://onlinelibrary.wiley.com/doi/abs/10.1111/jiec.12354",
      "abstract": "This article reviews, categorizes, and evaluates the objectives, means, and results of the application of material flow analysis (MFA) in waste management. It identifies those areas where MFA methodologies are most successful in supporting waste management decisions. The focus of this review is on the distinction between MFA on the level of goods and on the level of substances. Based on 83 reviewed studies, potentials, strengths, and weaknesses are investigated for the two levels of MFA when applied for analysis, evaluation, and improvement of waste management systems. The differences are discussed in view of effectiveness, applicability, and data availability. The results show that MFA on the level of goods are instrumental for understanding how waste management systems function, facilitating the connections of stakeholders, authorities, and waste management companies. The substance level is essential to assess qualitative aspects regarding resources and environment. Knowledge about the transformation, transport, and storage of valuable and hazardous substances forms the base for identifying both resource potentials and risks for human health and the environment. The results of this review encourage the application of MFA on both levels of goods and substances for decision making in waste management. Because of the mass balance principle, this combination has proven to be a powerful tool for comprehensively assessing if a chosen system reaches designated waste management goals.",
      "accessed": {
       "date-parts": [
        [
         2022,
         12,
         28
        ]
       ]
      },
      "author": [
       {
        "family": "Allesch",
        "given": "Astrid"
       },
       {
        "family": "Brunner",
        "given": "Paul H."
       }
      ],
      "container-title": "Journal of Industrial Ecology",
      "id": "13811894/N33WV9XV",
      "issue": "5",
      "issued": {
       "date-parts": [
        [
         2015
        ]
       ]
      },
      "language": "en",
      "note": "_eprint: https://onlinelibrary.wiley.com/doi/pdf/10.1111/jiec.12354",
      "page": "753-764",
      "shortTitle": "Material Flow Analysis as a Decision Support Tool for Waste Management",
      "system_id": "zotero|13811894/N33WV9XV",
      "title": "Material Flow Analysis as a Decision Support Tool for Waste Management: A Literature Review",
      "type": "article-journal",
      "volume": "19"
     },
     "13811894/PHJRIETV": {
      "DOI": "10.1038/s43016-021-00361-2",
      "URL": "https://www.scopus.com/inward/record.uri?eid=2-s2.0-85115179527&doi=10.1038%2fs43016-021-00361-2&partnerID=40&md5=e8a3b81e97610a04e56054561d4db42e",
      "author": [
       {
        "family": "von Braun",
        "given": "Joachim"
       },
       {
        "family": "Afsana",
        "given": "Kaosar"
       },
       {
        "family": "Fresco",
        "given": "Louise Ottilie"
       },
       {
        "family": "Hassan",
        "given": "Mohamed"
       },
       {
        "family": "Torero",
        "given": "Maximo"
       }
      ],
      "container-title": "Nature Food",
      "id": "13811894/PHJRIETV",
      "issue": "10",
      "issued": {
       "date-parts": [
        [
         2021
        ]
       ]
      },
      "note": "Type: Note",
      "page": "748 – 750",
      "system_id": "zotero|13811894/PHJRIETV",
      "title": "Food system concepts and definitions for science and political action",
      "type": "article-journal",
      "volume": "2"
     },
     "13811894/QLFKA8G9": {
      "URL": "https://ourworldindata.org/grapher/population",
      "abstract": "An interactive visualization from Our World in Data.",
      "accessed": {
       "date-parts": [
        [
         2022,
         12,
         15
        ]
       ]
      },
      "container-title": "Our World in Data",
      "id": "13811894/QLFKA8G9",
      "system_id": "zotero|13811894/QLFKA8G9",
      "title": "Population",
      "type": "webpage"
     },
     "13811894/RUDNEP2X": {
      "DOI": "10.1038/s41467-018-03308-7",
      "URL": "https://www.nature.com/articles/s41467-018-03308-7",
      "abstract": "Food systems are at the heart of at least 12 of the 17 Sustainable Development Goals (SDGs). The wide scope of the SDGs call for holistic approaches that integrate previously “siloed” food sustainability assessments. Here we present a first global-scale analysis quantifying the status of national food system performance of 156 countries, employing 25 sustainability indicators across 7 domains as follows: nutrition, environment, food affordability and availability, sociocultural well-being, resilience, food safety, and waste. The results show that different countries have widely varying patterns of performance with unique priorities for improvement. High-income nations score well on most indicators, but poorly on environmental, food waste, and health-sensitive nutrient-intake indicators. Transitioning from animal foods toward plant-based foods would improve indicator scores for most countries. Our nation-specific quantitative results can help policy-makers to set improvement targets on specific areas and adopt new practices, while keeping track of the other aspects of sustainability.",
      "accessed": {
       "date-parts": [
        [
         2023,
         1,
         25
        ]
       ]
      },
      "author": [
       {
        "family": "Chaudhary",
        "given": "Abhishek"
       },
       {
        "family": "Gustafson",
        "given": "David"
       },
       {
        "family": "Mathys",
        "given": "Alexander"
       }
      ],
      "container-title": "Nature Communications",
      "id": "13811894/RUDNEP2X",
      "issue": "1",
      "issued": {
       "date-parts": [
        [
         2018,
         2,
         27
        ]
       ]
      },
      "journalAbbreviation": "Nat Commun",
      "language": "en",
      "note": "Number: 1\nPublisher: Nature Publishing Group",
      "page": "848",
      "system_id": "zotero|13811894/RUDNEP2X",
      "title": "Multi-indicator sustainability assessment of global food systems",
      "type": "article-journal",
      "volume": "9"
     },
     "13811894/UPGD6SLC": {
      "DOI": "10.3945/an.116.013995",
      "URL": "https://doi.org/10.3945/an.116.013995",
      "abstract": "Nutrition science–based dietary advice urges changes that may have a great impact on agricultural systems. For example, the 2016 Dietary Guidelines for Americans (DGA) recommends greatly increased fruit and vegetable consumption, but the present domestic production is insufficient to accommodate large-scale adoption of these guidelines. Increasing production to the extent needed to meet the DGA will necessitate changes in an already stressed agriculture and food system and will require nutrition and agriculture professionals to come together in open and collegial discourse. All involved need to understand the stress placed on the food system by increasing populations, changing diets, and changing environments, and recognize the major diet-based public health challenges. Furthermore, there is a need to understand the intricate interplay of the myriad parts of the food system and the vast amount of work necessary to make even small changes. New systems approaches are needed, especially at the research level, where nutrition, public health, agriculture, and the food industry work together to solve interconnected problems. Future well-being depends on a sustainable food system that continues to deliver optimal health with minimal impact on the environment.",
      "accessed": {
       "date-parts": [
        [
         2022,
         12,
         28
        ]
       ]
      },
      "author": [
       {
        "family": "Finley",
        "given": "John W"
       },
       {
        "family": "Dimick",
        "given": "Dennis"
       },
       {
        "family": "Marshall",
        "given": "Elizabeth"
       },
       {
        "family": "Nelson",
        "given": "Gerald Charles"
       },
       {
        "family": "Mein",
        "given": "Jonathan R"
       },
       {
        "family": "Gustafson",
        "given": "David I"
       }
      ],
      "container-title": "Advances in Nutrition",
      "id": "13811894/UPGD6SLC",
      "issue": "5",
      "issued": {
       "date-parts": [
        [
         2017,
         9,
         1
        ]
       ]
      },
      "journalAbbreviation": "Advances in Nutrition",
      "page": "780-788",
      "shortTitle": "Nutritional Sustainability",
      "system_id": "zotero|13811894/UPGD6SLC",
      "title": "Nutritional Sustainability: Aligning Priorities in Nutrition and Public Health with Agricultural Production",
      "type": "article-journal",
      "volume": "8"
     },
     "13811894/V5FGMGA2": {
      "URL": "https://livewellforlife.eu/wp-content/uploads/2013/02/A-balance-of-healthy-and-sustainable-food-choices.pdf",
      "accessed": {
       "date-parts": [
        [
         2022,
         12,
         13
        ]
       ]
      },
      "id": "13811894/V5FGMGA2",
      "system_id": "zotero|13811894/V5FGMGA2",
      "title": "A-balance-of-healthy-and-sustainable-food-choices.pdf",
      "type": "article"
     },
     "13811894/W3I689U5": {
      "DOI": "10.1016/j.jclepro.2004.02.004",
      "URL": "https://www.sciencedirect.com/science/article/pii/S0959652604000691",
      "abstract": "In the following article, we introduce a method called economically extended material flow analysis (EE-MFA), which aims at studying causal relationships between economically motivated human behaviour and resource consumption. For this purpose, we expand MFA with economic information. This method is evaluated by applying it in a case study on resource efficiency in the food production chain. EE-MFA reduces the shortcomings of a technically oriented MFA by including a description of the inputs and outputs in money units without changing the system structure. This benefit is shown in the status quo analysis of “to nourish” where data from various sources could be compiled to set up a consistent model of material, energy and money flows. A further value addition of the method is that it creates a basis for a multi-criteria evaluation of strategies to improve resource efficiency on a regional scale. One result of this multi-criteria evaluation is a classification of strategies according to their influence on the materials, energy and money flows.",
      "accessed": {
       "date-parts": [
        [
         2022,
         12,
         26
        ]
       ]
      },
      "author": [
       {
        "family": "Kytzia",
        "given": "Susanne"
       },
       {
        "family": "Faist",
        "given": "Mireille"
       },
       {
        "family": "Baccini",
        "given": "Peter"
       }
      ],
      "collection-title": "Applications of Industrial Ecology",
      "container-title": "Journal of Cleaner Production",
      "id": "13811894/W3I689U5",
      "issue": "8",
      "issued": {
       "date-parts": [
        [
         2004,
         10,
         1
        ]
       ]
      },
      "journalAbbreviation": "Journal of Cleaner Production",
      "language": "en",
      "page": "877-889",
      "shortTitle": "Economically extended—MFA",
      "system_id": "zotero|13811894/W3I689U5",
      "title": "Economically extended—MFA: a material flow approach for a better understanding of food production chain",
      "type": "article-journal",
      "volume": "12"
     },
     "13811894/X72BEQ9J": {
      "DOI": "10.3945/an.113.005553",
      "abstract": "The confluence of population, economic development, and environmental pressures resulting from increased globalization and industrialization reveal an increasingly resource-constrained world in which predictions point to the need to do more with less and in a \"better\" way. The concept of sustainable diets presents an opportunity to successfully advance commitments to sustainable development and the elimination of poverty, food and nutrition insecurity, and poor health outcomes. This study examines the determinants of sustainable diets, offers a descriptive analysis of these areas, and presents a causal model and framework from which to build. The major determinants of sustainable diets fall into 5 categories: 1) agriculture, 2) health, 3) sociocultural, 4) environmental, and 5) socioeconomic. When factors or processes are changed in 1 determinant category, such changes affect other determinant categories and, in turn, the level of \"sustainability\" of a diet. The complex web of determinants of sustainable diets makes it challenging for policymakers to understand the benefits and considerations for promoting, processing, and consuming such diets. To advance this work, better measurements and indicators must be developed to assess the impact of the various determinants on the sustainability of a diet and the tradeoffs associated with any recommendations aimed at increasing the sustainability of our food system. © 2014 American Society for Nutrition.",
      "archive": "Scopus",
      "author": [
       {
        "family": "Johnston",
        "given": "J.L."
       },
       {
        "family": "Fanzo",
        "given": "J.C."
       },
       {
        "family": "Cogill",
        "given": "B."
       }
      ],
      "container-title": "Advances in Nutrition",
      "id": "13811894/X72BEQ9J",
      "issue": "4",
      "issued": {
       "date-parts": [
        [
         2014
        ]
       ]
      },
      "language": "English",
      "page": "418-429",
      "shortTitle": "Understanding sustainable diets",
      "system_id": "zotero|13811894/X72BEQ9J",
      "title": "Understanding sustainable diets: A descriptive analysis of the determinants and processes that influence diets and their impact on health, food security, and environmental sustainability",
      "type": "article-journal",
      "volume": "5"
     },
     "13811894/XDI8F2S8": {
      "DOI": "10.1073/pnas.1711889114",
      "URL": "https://www.pnas.org/doi/full/10.1073/pnas.1711889114",
      "abstract": "Dietary choices drive both health and environmental outcomes. Information on diets come from many sources, with nationally recommended diets (NRDs) by governmental or similar advisory bodies the most authoritative. Little or no attention is placed on the environmental impacts within NRDs. Here we quantify the impact of nation-specific NRDs, compared with an average diet in 37 nations, representing 64% of global population. We focus on greenhouse gases (GHGs), eutrophication, and land use because these have impacts reaching or exceeding planetary boundaries. We show that compared with average diets, NRDs in high-income nations are associated with reductions in GHG, eutrophication, and land use from 13.0 to 24.8%, 9.8 to 21.3%, and 5.7 to 17.6%, respectively. In upper-middle–income nations, NRDs are associated with slight decrease in impacts of 0.8–12.2%, 7.7–19.4%, and 7.2–18.6%. In poorer middle-income nations, impacts increase by 12.4–17.0%, 24.5–31.9%, and 8.8–14.8%. The reduced environmental impact in high-income countries is driven by reductions in calories (∼54% of effect) and a change in composition (∼46%). The increased environmental impacts of NRDs in low- and middle-income nations are associated with increased intake in animal products. Uniform adoption of NRDs across these nations would result in reductions of 0.19–0.53 Gt CO2 eq⋅a−1, 4.32–10.6 Gt \nPO\n3−\n4\nPO43−\n eq⋅a−1, and 1.5–2.8 million km2, while providing the health cobenefits of adopting an NRD. As a small number of dietary guidelines are beginning to incorporate more general environmental concerns, we anticipate that this work will provide a standardized baseline for future work to optimize recommended diets further.",
      "accessed": {
       "date-parts": [
        [
         2022,
         12,
         28
        ]
       ]
      },
      "author": [
       {
        "family": "Behrens",
        "given": "Paul"
       },
       {
        "family": "Kiefte-de Jong",
        "given": "Jessica C."
       },
       {
        "family": "Bosker",
        "given": "Thijs"
       },
       {
        "family": "Rodrigues",
        "given": "João F. D."
       },
       {
        "family": "de Koning",
        "given": "Arjan"
       },
       {
        "family": "Tukker",
        "given": "Arnold"
       }
      ],
      "container-title": "Proceedings of the National Academy of Sciences",
      "id": "13811894/XDI8F2S8",
      "issue": "51",
      "issued": {
       "date-parts": [
        [
         2017,
         12,
         19
        ]
       ]
      },
      "note": "Publisher: Proceedings of the National Academy of Sciences",
      "page": "13412-13417",
      "system_id": "zotero|13811894/XDI8F2S8",
      "title": "Evaluating the environmental impacts of dietary recommendations",
      "type": "article-journal",
      "volume": "114"
     },
     "13811894/YMS5KSMY": {
      "collection-title": "WP-286",
      "editor": [
       {
        "family": "Malassis",
        "given": "Louis"
       }
      ],
      "id": "13811894/YMS5KSMY",
      "issued": {
       "date-parts": [
        [
         1983
        ]
       ]
      },
      "language": "eng",
      "note": "DOI: 10.22004/ag.econ.198267",
      "number-of-pages": "39",
      "system_id": "zotero|13811894/YMS5KSMY",
      "title": "Food Systems Analysis",
      "type": "book"
     },
     "13811894/ZYPC6GLS": {
      "URL": "https://bonndoc.ulb.uni-bonn.de/xmlui/handle/20.500.11811/9099",
      "abstract": "The UN Food System Summit seeks to alter food systems to be healthier, safer, more sustainable, more efficient, and more equitable. This paper aims to inform the public and stakeholders interested in the Food Systems Summit about concepts and definitions of food systems and determinations of their change. To foster a clear understanding of food systems, especially with regard to the upcoming Food Systems Summit, we first present a general food system concept. We then introduce a concept based on science that provides a definition that the Food System Summit can use with the five goal-oriented Action Tracks (serving SDG2) and their interlinkages. We suggest a food system definition that encompasses food system thinking and the broad set of actors and drivers, embedding the concept of sustainability within it.",
      "accessed": {
       "date-parts": [
        [
         2022,
         12,
         17
        ]
       ]
      },
      "author": [
       {
        "family": "von Braun",
        "given": "Joachim"
       },
       {
        "family": "Afsana",
        "given": "Koaisar"
       },
       {
        "family": "Fresco",
        "given": "Louise O."
       },
       {
        "family": "Hassan",
        "given": "Mohamed"
       },
       {
        "family": "Torero",
        "given": "Maximo"
       }
      ],
      "genre": "Report",
      "id": "13811894/ZYPC6GLS",
      "issued": {
       "date-parts": [
        [
         2021,
         3,
         5
        ]
       ]
      },
      "language": "eng",
      "note": "Accepted: 2021-05-21T10:14:03Z\nDOI: 10.48565/scfss2021-re63",
      "publisher": "Center for Development Research (ZEF) in cooperation with the Scientific Group for the UN Food System Summit 2021",
      "system_id": "zotero|13811894/ZYPC6GLS",
      "title": "Food Systems",
      "type": "report"
     }
    }
   },
   "style": "apa-no-ampersand.csl"
  },
  "kernelspec": {
   "display_name": "Python 3 (ipykernel)",
   "language": "python",
   "name": "python3"
  },
  "language_info": {
   "codemirror_mode": {
    "name": "ipython",
    "version": 3
   },
   "file_extension": ".py",
   "mimetype": "text/x-python",
   "name": "python",
   "nbconvert_exporter": "python",
   "pygments_lexer": "ipython3",
   "version": "3.9.6"
  }
 },
 "nbformat": 4,
 "nbformat_minor": 5
}
